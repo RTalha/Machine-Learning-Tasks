{
 "cells": [
  {
   "cell_type": "markdown",
   "id": "988c94f2",
   "metadata": {},
   "source": [
    "# Room Cancellation Classification\n",
    "\n",
    "In this assignment, you will be performing EDA and predictive modelling on a dataset of hotel reservations. The dataset is available from the attached `hotel_bookings.csv` file.\n",
    "\n",
    "In this Jupyter notebook, please, document your results and the way you have obtained them. The results of each sub-question should be printed as the result of its corresponding cell.\n",
    "Please make sure that the datasets and other outputs are easily identifiable, i.e. use descriptive names for as is suitable for each corresponding question.\n",
    "Give your commented Python code and answers in the corresponding provided cells. Make sure to answer all questions in a clear and explicit manner. _Please do not change the general structure of this notebook_. You can, however, **add additional markdown or code cells** if necessary. <b>Please DO NOT CLEAR THE OUTPUT of the notebook you are submitting! </b>\n",
    "\n",
    "**Submission instructions**:\n",
    "For submission, make a zip file containing your notebook and the attached dataset and name it as `<your_roll_number>_a3.zip` "
   ]
  },
  {
   "cell_type": "code",
   "execution_count": 1,
   "id": "39d2a291",
   "metadata": {},
   "outputs": [],
   "source": [
    "# Add all imports here\n",
    "import pandas as pd\n",
    "import numpy as np\n",
    "import matplotlib.pyplot as plt\n",
    "from sklearn.model_selection import train_test_split, cross_val_score\n",
    "from sklearn.tree import DecisionTreeClassifier\n",
    "from sklearn.metrics import classification_report, accuracy_score, confusion_matrix\n",
    "import warnings\n",
    "warnings.filterwarnings('ignore')"
   ]
  },
  {
   "cell_type": "code",
   "execution_count": 2,
   "id": "e5d168a2",
   "metadata": {},
   "outputs": [],
   "source": [
    "df = pd.read_csv(\"hotel_bookings.csv\")"
   ]
  },
  {
   "cell_type": "markdown",
   "id": "f5913ef9",
   "metadata": {},
   "source": [
    "## Data Description\n",
    "\n",
    "[Original Source](https://github.com/rfordatascience/tidytuesday/blob/master/data/2020/2020-02-11/readme.md)\n",
    "\n",
    "This data consists of room reservations for two hotels: (i) a city hotel and (ii) a resort hotel. The columns are described as follows:\n",
    "\n",
    "|variable                       |class     |description |\n",
    "|:------------------------------|:---------|:-----------|\n",
    "|hotel                          |character | Hotel (H1 = Resort Hotel or H2 = City Hotel) |\n",
    "|is_canceled                    |double    | Value indicating if the booking was canceled (1) or not (0) |\n",
    "|lead_time                      |double    | Number of days that elapsed between the entering date of the booking into the PMS and the arrival date |\n",
    "|arrival_date_year              |double    | Year of arrival date|\n",
    "|arrival_date_month             |character | Month of arrival date|\n",
    "|arrival_date_week_number       |double    | Week number of year for arrival date|\n",
    "|arrival_date_day_of_month      |double    | Day of arrival date|\n",
    "|stays_in_weekend_nights        |double    | Number of weekend nights (Saturday or Sunday) the guest stayed or booked to stay at the hotel |\n",
    "|stays_in_week_nights           |double    |  Number of week nights (Monday to Friday) the guest stayed or booked to stay at the hotel|\n",
    "|adults                         |double    | Number of adults|\n",
    "|children                       |double    | Number of children|\n",
    "|babies                         |double    |Number of babies |\n",
    "|meal                           |character | Type of meal booked. Categories are presented in standard hospitality meal packages: <br> Undefined/SC – no meal package;<br>BB – Bed & Breakfast; <br> HB – Half board (breakfast and one other meal – usually dinner); <br> FB – Full board (breakfast, lunch and dinner) |\n",
    "|country                        |character | Country of origin. Categories are represented in the ISO 3155–3:2013 format |\n",
    "|market_segment                 |character | Market segment designation. In categories, the term “TA” means “Travel Agents” and “TO” means “Tour Operators” |\n",
    "|distribution_channel           |character | Booking distribution channel. The term “TA” means “Travel Agents” and “TO” means “Tour Operators” |\n",
    "|is_repeated_guest              |double    | Value indicating if the booking name was from a repeated guest (1) or not (0) |\n",
    "|previous_cancellations         |double    | Number of previous bookings that were cancelled by the customer prior to the current booking |\n",
    "|previous_bookings_not_canceled |double    | Number of previous bookings not cancelled by the customer prior to the current booking |\n",
    "|reserved_room_type             |character | Code of room type reserved. Code is presented instead of designation for anonymity reasons |\n",
    "|assigned_room_type             |character | Code for the type of room assigned to the booking. Sometimes the assigned room type differs from the reserved room type due to hotel operation reasons (e.g. overbooking) or by customer request. Code is presented instead of designation for anonymity reasons |\n",
    "|booking_changes                |double    | Number of changes/amendments made to the booking from the moment the booking was entered on the PMS until the moment of check-in or cancellation|\n",
    "|deposit_type                   |character | Indication on if the customer made a deposit to guarantee the booking. This variable can assume three categories:<br>No Deposit – no deposit was made;<br>Non Refund – a deposit was made in the value of the total stay cost;<br>Refundable – a deposit was made with a value under the total cost of stay. |\n",
    "|agent                          |character | ID of the travel agency that made the booking |\n",
    "|company                        |character | ID of the company/entity that made the booking or responsible for paying the booking. ID is presented instead of designation for anonymity reasons |\n",
    "|days_in_waiting_list           |double    | Number of days the booking was in the waiting list before it was confirmed to the customer |\n",
    "|customer_type                  |character | Type of booking, assuming one of four categories:<br>Contract - when the booking has an allotment or other type of contract associated to it;<br>Group – when the booking is associated to a group;<br>Transient – when the booking is not part of a group or contract, and is not associated to other transient booking;<br>Transient-party – when the booking is transient, but is associated to at least other transient booking|\n",
    "|adr                            |double    | Average Daily Rate as defined by dividing the sum of all lodging transactions by the total number of staying nights |\n",
    "|required_car_parking_spaces    |double    | Number of car parking spaces required by the customer |\n",
    "|total_of_special_requests      |double    | Number of special requests made by the customer (e.g. twin bed or high floor)|\n",
    "|reservation_status             |character | Reservation last status, assuming one of three categories:<br>Canceled – booking was canceled by the customer;<br>Check-Out – customer has checked in but already departed;<br>No-Show – customer did not check-in and did inform the hotel of the reason why |\n",
    "|reservation_status_date        |double    | Date at which the last status was set. This variable can be used in conjunction with the ReservationStatus to understand when was the booking canceled or when did the customer checked-out of the hotel|\n"
   ]
  },
  {
   "cell_type": "markdown",
   "id": "be114fca",
   "metadata": {},
   "source": [
    "## Part 0\n",
    "\n",
    "The `children`, `adults` and `babies` columns cannot have a value of zero simultaneously. Filter out the rows, which show this behavior"
   ]
  },
  {
   "cell_type": "code",
   "execution_count": 3,
   "id": "d7bb2486",
   "metadata": {},
   "outputs": [
    {
     "name": "stdout",
     "output_type": "stream",
     "text": [
      "(119390, 32)\n",
      "(119210, 32)\n"
     ]
    }
   ],
   "source": [
    "# Your code here\n",
    "print(df.shape)\n",
    "df_refined=df[(df.adults!= 0) | (df.children !=0) | (df.babies !=0)]\n",
    "print(df_refined.shape)"
   ]
  },
  {
   "cell_type": "markdown",
   "id": "c18ffa53",
   "metadata": {},
   "source": [
    "## Part A - EDA\n",
    "\n",
    "To make ourselves familiar with the data, we will start with an explorative data analysis. In this part, you will be making different visualizations to support your answers.\n",
    "\n",
    "For each sub-question, a separate and single subplot should be shown. You also need to decide the optimal visualization for each case and use that."
   ]
  },
  {
   "cell_type": "markdown",
   "id": "c343987f",
   "metadata": {},
   "source": [
    "### Question 1\n",
    "\n",
    "#### (a)\n",
    "Determine and visualize the top 10 countries and guest counts from which the maximum number of guests are coming from.\n",
    "\n",
    "#### (b)\n",
    "Repeat (a) but show the guest counts for the citydfcities.index and resort hotels separately. They both should be shown in the same plot\n",
    "\n",
    "#### (c)\n",
    "Repeat (b) for the non-cancelled bookings\n",
    "\n",
    "\n",
    "Each part should be done in a separate cell"
   ]
  },
  {
   "cell_type": "code",
   "execution_count": 4,
   "id": "7e472964-b5bf-4f25-bf82-cdbb7c5fbe5d",
   "metadata": {
    "tags": []
   },
   "outputs": [],
   "source": [
    "#preprocessing for question a\n",
    "df_refined['children']=df_refined['children'].fillna(0)\n",
    "df2=df_refined[['children','adults','babies','country','hotel','is_canceled']]\n",
    "df2['no_of_guest']=df2['children']+df2['adults']+df2['babies']\n",
    "df2.dropna(inplace=True)\n",
    "#df2.isnull().sum()"
   ]
  },
  {
   "cell_type": "code",
   "execution_count": 5,
   "id": "87cd2625-9861-4eda-a57b-58e9b36472d2",
   "metadata": {},
   "outputs": [
    {
     "data": {
      "text/plain": [
       "[<matplotlib.lines.Line2D at 0x7f7b526d6400>]"
      ]
     },
     "execution_count": 5,
     "metadata": {},
     "output_type": "execute_result"
    },
    {
     "data": {
      "image/png": "[encoded data removed]",
      "text/plain": [
       "<Figure size 720x432 with 1 Axes>"
      ]
     },
     "metadata": {
      "needs_background": "light"
     },
     "output_type": "display_data"
    }
   ],
   "source": [
    "plt.figure(figsize=(10,6))\n",
    "df3=df2.groupby('country').sum()\n",
    "df4=df3.sort_values(by='no_of_guest',ascending=False)[0:10]\n",
    "plt.bar(df4.index,df4.no_of_guest)\n",
    "plt.plot(df4.index,df4.no_of_guest)"
   ]
  },
  {
   "cell_type": "code",
   "execution_count": 7,
   "id": "6432c24e-7e2e-4c21-9a1c-e0fe28125dc9",
   "metadata": {},
   "outputs": [
    {
     "data": {
      "image/png": "[encoded data removed]",
      "text/plain": [
       "<Figure size 720x432 with 1 Axes>"
      ]
     },
     "metadata": {
      "needs_background": "light"
     },
     "output_type": "display_data"
    }
   ],
   "source": [
    "plt.figure(figsize=(10,6))\n",
    "top10countries = list(df2.groupby('country').sum().sort_values(by='no_of_guest',ascending=False)[0:10].index)\n",
    "city_hotel=[]\n",
    "resort_hotel=[]\n",
    "\n",
    "for country_name in top10countries:\n",
    "    #print(country_name)\n",
    "    hotel_groupd=df2[df2['country']==country_name].groupby('hotel').sum()\n",
    "    #print(hotel_groupd)\n",
    "    #print(hotel_groupd['no_of_guest'].loc['City Hotel'])\n",
    "    city_hotel.append(hotel_groupd['no_of_guest'].loc['City Hotel'])\n",
    "    resort_hotel.append(hotel_groupd['no_of_guest'].loc['Resort Hotel'])\n",
    "    \n",
    "X_axis = np.arange(len(top10countries))\n",
    "  \n",
    "plt.bar(X_axis - 0.2, city_hotel, 0.4, label = 'City Hotel')\n",
    "plt.bar(X_axis + 0.2, resort_hotel, 0.4, label = 'Resorts Hotel')\n",
    "plt.xticks(X_axis, top10countries)\n",
    "plt.xlabel(\"countries\")\n",
    "plt.ylabel(\"Number of Guest\")\n",
    "plt.title(\"Number of Guest in each hotel\")\n",
    "plt.legend()\n",
    "plt.show()"
   ]
  },
  {
   "cell_type": "code",
   "execution_count": 9,
   "id": "a488d438-a5de-4c98-bee0-705071d395fe",
   "metadata": {},
   "outputs": [
    {
     "data": {
      "image/png": "[encoded data removed]",
      "text/plain": [
       "<Figure size 720x432 with 1 Axes>"
      ]
     },
     "metadata": {
      "needs_background": "light"
     },
     "output_type": "display_data"
    }
   ],
   "source": [
    "plt.figure(figsize=(10,6))\n",
    "plt.grid()\n",
    "top10countries = list(df2.groupby('country').sum().sort_values(by='no_of_guest',ascending=False)[0:10].index)\n",
    "city_hotel=[]\n",
    "resort_hotel=[]\n",
    "\n",
    "for country_name in top10countries:\n",
    "    #print(country_name)\n",
    "    hotel_groupd=df2[(df2['country']==country_name) & (df2['is_canceled']==0)].groupby('hotel').sum()\n",
    "    #print(hotel_groupd)\n",
    "    #print(hotel_groupd['no_of_guest'].loc['City Hotel'])\n",
    "    city_hotel.append(hotel_groupd['no_of_guest'].loc['City Hotel'])\n",
    "    resort_hotel.append(hotel_groupd['no_of_guest'].loc['Resort Hotel'])\n",
    "    \n",
    "X_axis = np.arange(len(top10countries))\n",
    "  \n",
    "plt.bar(X_axis - 0.2, city_hotel, 0.4, label = 'City Hotel')\n",
    "plt.bar(X_axis + 0.2, resort_hotel, 0.4, label = 'Resorts Hotel')\n",
    "plt.xticks(X_axis, top10countries)\n",
    "plt.xlabel(\"countries\")\n",
    "plt.ylabel(\"Number of Guest\")\n",
    "plt.title(\"Number of Guest in each hotel\")\n",
    "plt.legend()\n",
    "plt.show()"
   ]
  },
  {
   "cell_type": "markdown",
   "id": "21911536",
   "metadata": {},
   "source": [
    "### Question 2\n",
    "Consider the non-cancelled bookings only.\n",
    "\n",
    "#### (a)\n",
    "Plot the distribution of the average amount (adr), the guests are charged per night for each room type.\n",
    "\n",
    "#### (b)\n",
    "Repeat (a) but separate the results for each hotel. A single plot should be shown\n"
   ]
  },
  {
   "cell_type": "code",
   "execution_count": 16,
   "id": "3a55d016",
   "metadata": {},
   "outputs": [
    {
     "data": {
      "image/png": "[encoded data removed]",
      "text/plain": [
       "<Figure size 720x432 with 1 Axes>"
      ]
     },
     "metadata": {
      "needs_background": "light"
     },
     "output_type": "display_data"
    }
   ],
   "source": [
    "plt.figure(figsize=(10,6))\n",
    "plt.grid()\n",
    "df2=df_refined[['adr','is_canceled','reserved_room_type','assigned_room_type','hotel']][df_refined['is_canceled']==0]\n",
    "df3=df2.groupby('assigned_room_type').mean()\n",
    "plt.scatter(df3.index,df3.adr)\n",
    "plt.xticks(df3.index)\n",
    "plt.show()"
   ]
  },
  {
   "cell_type": "code",
   "execution_count": 31,
   "id": "6f738d51",
   "metadata": {},
   "outputs": [
    {
     "name": "stdout",
     "output_type": "stream",
     "text": [
      "[97.37234466939299, 94.18697253851317, 101.92419580419583, 116.01768741821073, 138.72623001230022, 171.03926866820638, 177.42920774647882, 0, 0, 71.76051136363635]\n",
      "[80.0750090942156, 102.28833333333333, 107.2010387422798, 81.26339798763473, 100.97798574821846, 117.31074098360656, 148.9705162364697, 157.96264642082434, 40.55872881355931, 0]\n"
     ]
    },
    {
     "data": {
      "image/png": "[encoded data removed]",
      "text/plain": [
       "<Figure size 720x432 with 1 Axes>"
      ]
     },
     "metadata": {
      "needs_background": "light"
     },
     "output_type": "display_data"
    }
   ],
   "source": [
    "plt.figure(figsize=(10,6))\n",
    "plt.grid()\n",
    "df2=df_refined[['adr','is_canceled','reserved_room_type','assigned_room_type','hotel']][df_refined['is_canceled']==0]\n",
    "room_types = list(df2.groupby('assigned_room_type').mean().index)\n",
    "city_hotel=[]\n",
    "resort_hotel=[]\n",
    "#print(room_types)\n",
    "for room_type in room_types:\n",
    "    hotel_groupd=df2[df2['assigned_room_type']==room_type].groupby('hotel').mean()\n",
    "    #print(hotel_groupd)\n",
    "    try:\n",
    "        city_hotel.append(hotel_groupd['adr'].loc['City Hotel'])\n",
    "    except:\n",
    "        city_hotel.append(0)\n",
    "    try:\n",
    "        resort_hotel.append(hotel_groupd['adr'].loc['Resort Hotel'])\n",
    "    except:\n",
    "        resort_hotel.append(0)\n",
    "print(city_hotel)\n",
    "print(resort_hotel)\n",
    "X_axis = np.arange(len(room_types))\n",
    "  \n",
    "plt.bar(X_axis - 0.2, city_hotel, 0.4, label = 'City Hotel')\n",
    "plt.bar(X_axis + 0.2, resort_hotel, 0.4, label = 'Resorts Hotel')\n",
    "plt.xticks(X_axis, room_types)\n",
    "plt.xlabel(\"Room Type\")\n",
    "plt.ylabel(\"adr\")\n",
    "#plt.title(\"Number of Guest in each hotel\")\n",
    "plt.legend()\n",
    "plt.show()"
   ]
  },
  {
   "cell_type": "markdown",
   "id": "6db1d565",
   "metadata": {},
   "source": [
    "### Question 3\n",
    "Consider the non-cancelled bookings only.\n",
    "\n",
    "#### (a)\n",
    "Plot the mean values for `adr` by month. Show the values separately for each hotel. Also, ensure that the axis elements are appropriately ordered.\n",
    "\n",
    "#### (b)\n",
    "Plot the mean values for `adr` by day of the week. Show the values separately for each hotel. Also, ensure that the axis elements are appropriately ordered.\n",
    "\n"
   ]
  },
  {
   "cell_type": "code",
   "execution_count": 129,
   "id": "dc78848a",
   "metadata": {},
   "outputs": [],
   "source": [
    "# Your code here (a)\n",
    "subsemi1=semidf1[['adr','arrival_date_month','hotel']]"
   ]
  },
  {
   "cell_type": "code",
   "execution_count": 169,
   "id": "75d9840c",
   "metadata": {},
   "outputs": [
    {
     "ename": "KeyError",
     "evalue": "'arrival_date_month'",
     "output_type": "error",
     "traceback": [
      "\u001b[0;31m---------------------------------------------------------------------------\u001b[0m",
      "\u001b[0;31mKeyError\u001b[0m                                  Traceback (most recent call last)",
      "\u001b[0;32m<ipython-input-169-b443eb899421>\u001b[0m in \u001b[0;36m<module>\u001b[0;34m\u001b[0m\n\u001b[0;32m----> 1\u001b[0;31m \u001b[0ma\u001b[0m\u001b[0;34m=\u001b[0m\u001b[0msubsemi1\u001b[0m\u001b[0;34m[\u001b[0m\u001b[0msubsemi1\u001b[0m\u001b[0;34m[\u001b[0m\u001b[0;34m'hotel'\u001b[0m\u001b[0;34m]\u001b[0m\u001b[0;34m.\u001b[0m\u001b[0mstr\u001b[0m\u001b[0;34m.\u001b[0m\u001b[0mcontains\u001b[0m\u001b[0;34m(\u001b[0m\u001b[0;34m'City Hotel'\u001b[0m\u001b[0;34m)\u001b[0m\u001b[0;34m]\u001b[0m\u001b[0;34m.\u001b[0m\u001b[0mgroupby\u001b[0m\u001b[0;34m(\u001b[0m\u001b[0;34m'arrival_date_month'\u001b[0m\u001b[0;34m)\u001b[0m\u001b[0;34m.\u001b[0m\u001b[0mmean\u001b[0m\u001b[0;34m(\u001b[0m\u001b[0;34m)\u001b[0m\u001b[0;34m\u001b[0m\u001b[0;34m\u001b[0m\u001b[0m\n\u001b[0m\u001b[1;32m      2\u001b[0m \u001b[0mb\u001b[0m\u001b[0;34m=\u001b[0m\u001b[0msubsemi1\u001b[0m\u001b[0;34m[\u001b[0m\u001b[0msubsemi1\u001b[0m\u001b[0;34m[\u001b[0m\u001b[0;34m'hotel'\u001b[0m\u001b[0;34m]\u001b[0m\u001b[0;34m.\u001b[0m\u001b[0mstr\u001b[0m\u001b[0;34m.\u001b[0m\u001b[0mcontains\u001b[0m\u001b[0;34m(\u001b[0m\u001b[0;34m'Resort Hotel'\u001b[0m\u001b[0;34m)\u001b[0m\u001b[0;34m]\u001b[0m\u001b[0;34m.\u001b[0m\u001b[0mgroupby\u001b[0m\u001b[0;34m(\u001b[0m\u001b[0;34m'arrival_date_month'\u001b[0m\u001b[0;34m)\u001b[0m\u001b[0;34m.\u001b[0m\u001b[0mmean\u001b[0m\u001b[0;34m(\u001b[0m\u001b[0;34m)\u001b[0m\u001b[0;34m\u001b[0m\u001b[0;34m\u001b[0m\u001b[0m\n\u001b[1;32m      3\u001b[0m \u001b[0mx\u001b[0m\u001b[0;34m=\u001b[0m\u001b[0mlist\u001b[0m\u001b[0;34m(\u001b[0m\u001b[0ma\u001b[0m\u001b[0;34m[\u001b[0m\u001b[0;34m'adr'\u001b[0m\u001b[0;34m]\u001b[0m\u001b[0;34m.\u001b[0m\u001b[0mkeys\u001b[0m\u001b[0;34m(\u001b[0m\u001b[0;34m)\u001b[0m\u001b[0;34m)\u001b[0m\u001b[0;34m\u001b[0m\u001b[0;34m\u001b[0m\u001b[0m\n\u001b[1;32m      4\u001b[0m \u001b[0my\u001b[0m\u001b[0;34m=\u001b[0m\u001b[0mlist\u001b[0m\u001b[0;34m(\u001b[0m\u001b[0ma\u001b[0m\u001b[0;34m[\u001b[0m\u001b[0;34m'adr'\u001b[0m\u001b[0;34m]\u001b[0m\u001b[0;34m.\u001b[0m\u001b[0mvalues\u001b[0m\u001b[0;34m)\u001b[0m\u001b[0;34m\u001b[0m\u001b[0;34m\u001b[0m\u001b[0m\n\u001b[1;32m      5\u001b[0m \u001b[0mx1\u001b[0m\u001b[0;34m=\u001b[0m\u001b[0mlist\u001b[0m\u001b[0;34m(\u001b[0m\u001b[0mb\u001b[0m\u001b[0;34m[\u001b[0m\u001b[0;34m'adr'\u001b[0m\u001b[0;34m]\u001b[0m\u001b[0;34m.\u001b[0m\u001b[0mkeys\u001b[0m\u001b[0;34m(\u001b[0m\u001b[0;34m)\u001b[0m\u001b[0;34m)\u001b[0m\u001b[0;34m\u001b[0m\u001b[0;34m\u001b[0m\u001b[0m\n",
      "\u001b[0;32m~/miniconda3/envs/itu/lib/python3.6/site-packages/pandas/core/frame.py\u001b[0m in \u001b[0;36mgroupby\u001b[0;34m(self, by, axis, level, as_index, sort, group_keys, squeeze, observed)\u001b[0m\n\u001b[1;32m   5808\u001b[0m             \u001b[0mgroup_keys\u001b[0m\u001b[0;34m=\u001b[0m\u001b[0mgroup_keys\u001b[0m\u001b[0;34m,\u001b[0m\u001b[0;34m\u001b[0m\u001b[0;34m\u001b[0m\u001b[0m\n\u001b[1;32m   5809\u001b[0m             \u001b[0msqueeze\u001b[0m\u001b[0;34m=\u001b[0m\u001b[0msqueeze\u001b[0m\u001b[0;34m,\u001b[0m\u001b[0;34m\u001b[0m\u001b[0;34m\u001b[0m\u001b[0m\n\u001b[0;32m-> 5810\u001b[0;31m             \u001b[0mobserved\u001b[0m\u001b[0;34m=\u001b[0m\u001b[0mobserved\u001b[0m\u001b[0;34m,\u001b[0m\u001b[0;34m\u001b[0m\u001b[0;34m\u001b[0m\u001b[0m\n\u001b[0m\u001b[1;32m   5811\u001b[0m         )\n\u001b[1;32m   5812\u001b[0m \u001b[0;34m\u001b[0m\u001b[0m\n",
      "\u001b[0;32m~/miniconda3/envs/itu/lib/python3.6/site-packages/pandas/core/groupby/groupby.py\u001b[0m in \u001b[0;36m__init__\u001b[0;34m(self, obj, keys, axis, level, grouper, exclusions, selection, as_index, sort, group_keys, squeeze, observed, mutated)\u001b[0m\n\u001b[1;32m    408\u001b[0m                 \u001b[0msort\u001b[0m\u001b[0;34m=\u001b[0m\u001b[0msort\u001b[0m\u001b[0;34m,\u001b[0m\u001b[0;34m\u001b[0m\u001b[0;34m\u001b[0m\u001b[0m\n\u001b[1;32m    409\u001b[0m                 \u001b[0mobserved\u001b[0m\u001b[0;34m=\u001b[0m\u001b[0mobserved\u001b[0m\u001b[0;34m,\u001b[0m\u001b[0;34m\u001b[0m\u001b[0;34m\u001b[0m\u001b[0m\n\u001b[0;32m--> 410\u001b[0;31m                 \u001b[0mmutated\u001b[0m\u001b[0;34m=\u001b[0m\u001b[0mself\u001b[0m\u001b[0;34m.\u001b[0m\u001b[0mmutated\u001b[0m\u001b[0;34m,\u001b[0m\u001b[0;34m\u001b[0m\u001b[0;34m\u001b[0m\u001b[0m\n\u001b[0m\u001b[1;32m    411\u001b[0m             )\n\u001b[1;32m    412\u001b[0m \u001b[0;34m\u001b[0m\u001b[0m\n",
      "\u001b[0;32m~/miniconda3/envs/itu/lib/python3.6/site-packages/pandas/core/groupby/grouper.py\u001b[0m in \u001b[0;36mget_grouper\u001b[0;34m(obj, key, axis, level, sort, observed, mutated, validate)\u001b[0m\n\u001b[1;32m    598\u001b[0m                 \u001b[0min_axis\u001b[0m\u001b[0;34m,\u001b[0m \u001b[0mname\u001b[0m\u001b[0;34m,\u001b[0m \u001b[0mlevel\u001b[0m\u001b[0;34m,\u001b[0m \u001b[0mgpr\u001b[0m \u001b[0;34m=\u001b[0m \u001b[0;32mFalse\u001b[0m\u001b[0;34m,\u001b[0m \u001b[0;32mNone\u001b[0m\u001b[0;34m,\u001b[0m \u001b[0mgpr\u001b[0m\u001b[0;34m,\u001b[0m \u001b[0;32mNone\u001b[0m\u001b[0;34m\u001b[0m\u001b[0;34m\u001b[0m\u001b[0m\n\u001b[1;32m    599\u001b[0m             \u001b[0;32melse\u001b[0m\u001b[0;34m:\u001b[0m\u001b[0;34m\u001b[0m\u001b[0;34m\u001b[0m\u001b[0m\n\u001b[0;32m--> 600\u001b[0;31m                 \u001b[0;32mraise\u001b[0m \u001b[0mKeyError\u001b[0m\u001b[0;34m(\u001b[0m\u001b[0mgpr\u001b[0m\u001b[0;34m)\u001b[0m\u001b[0;34m\u001b[0m\u001b[0;34m\u001b[0m\u001b[0m\n\u001b[0m\u001b[1;32m    601\u001b[0m         \u001b[0;32melif\u001b[0m \u001b[0misinstance\u001b[0m\u001b[0;34m(\u001b[0m\u001b[0mgpr\u001b[0m\u001b[0;34m,\u001b[0m \u001b[0mGrouper\u001b[0m\u001b[0;34m)\u001b[0m \u001b[0;32mand\u001b[0m \u001b[0mgpr\u001b[0m\u001b[0;34m.\u001b[0m\u001b[0mkey\u001b[0m \u001b[0;32mis\u001b[0m \u001b[0;32mnot\u001b[0m \u001b[0;32mNone\u001b[0m\u001b[0;34m:\u001b[0m\u001b[0;34m\u001b[0m\u001b[0;34m\u001b[0m\u001b[0m\n\u001b[1;32m    602\u001b[0m             \u001b[0;31m# Add key to exclusions\u001b[0m\u001b[0;34m\u001b[0m\u001b[0;34m\u001b[0m\u001b[0;34m\u001b[0m\u001b[0m\n",
      "\u001b[0;31mKeyError\u001b[0m: 'arrival_date_month'"
     ]
    }
   ],
   "source": [
    "a=subsemi1[subsemi1['hotel'].str.contains('City Hotel')].groupby('arrival_date_month').mean()\n",
    "b=subsemi1[subsemi1['hotel'].str.contains('Resort Hotel')].groupby('arrival_date_month').mean()\n",
    "x=list(a['adr'].keys())\n",
    "y=list(a['adr'].values)\n",
    "x1=list(b['adr'].keys())\n",
    "y1=list(b['adr'].values)\n",
    "plt.plot(x,y, '-.o',label='City Hotel')\n",
    "plt.plot(x1,y1, '-o',label='Resort Hotel')\n",
    "plt.xlabel(\"arrival_date_month\")\n",
    "plt.ylabel(\"Value\")\n",
    "plt.title('Plot the mean values for adr by day of the week. Show the values separately for each hotel. Also, ensure that the axis elements are appropriately ordered.')\n",
    "plt.legend()"
   ]
  },
  {
   "cell_type": "code",
   "execution_count": 168,
   "id": "d9c9bbcd",
   "metadata": {},
   "outputs": [
    {
     "data": {
      "text/plain": [
       "<matplotlib.legend.Legend at 0x7fad38478ef0>"
      ]
     },
     "execution_count": 168,
     "metadata": {},
     "output_type": "execute_result"
    },
    {
     "data": {
      "image/png": "[encoded data removed]",
      "text/plain": [
       "<Figure size 1440x720 with 1 Axes>"
      ]
     },
     "metadata": {},
     "output_type": "display_data"
    }
   ],
   "source": [
    "# Your code here (B)\n",
    "subsemi1=semidf1[['adr','arrival_date_day_of_month','hotel']]\n",
    "a=subsemi1[subsemi1['hotel'].str.contains('City Hotel')].groupby('arrival_date_day_of_month').mean()\n",
    "b=subsemi1[subsemi1['hotel'].str.contains('Resort Hotel')].groupby('arrival_date_day_of_month').mean()\n",
    "x=list(a['adr'].keys())\n",
    "y=list(a['adr'].values)\n",
    "x1=list(b['adr'].keys())\n",
    "y1=list(b['adr'].values)\n",
    "plt.plot(x,y, '-.o',label='City Hotel')\n",
    "plt.plot(x1,y1, '-o',label='Resort Hotel')\n",
    "plt.xlabel(\"arrival_date_day_of_month\")\n",
    "plt.ylabel(\"Value\")\n",
    "plt.title('Plot the mean values for adr by day of the week. Show the values separately for each hotel. Also, ensure that the axis elements are appropriately ordered.')\n",
    "plt.legend()"
   ]
  },
  {
   "cell_type": "markdown",
   "id": "4fe98db3",
   "metadata": {},
   "source": [
    "### Question 4\n",
    "\n",
    "Consider the non-cancelled bookings only.\n",
    "\n",
    "#### (a)\n",
    "\n",
    "Plot the guest counts by month. Show the values separately for each hotel. Also, ensure that the axis elements are appropriately ordered.\n",
    "\n",
    "#### (b)\n",
    "Plot the guest counts by day of the week. Show the values separately for each hotel. Also, ensure that the axis elements are appropriately ordered."
   ]
  },
  {
   "cell_type": "code",
   "execution_count": 171,
   "id": "c2f74fe4",
   "metadata": {},
   "outputs": [
    {
     "data": {
      "text/html": [
       "<div>\n",
       "<style scoped>\n",
       "    .dataframe tbody tr th:only-of-type {\n",
       "        vertical-align: middle;\n",
       "    }\n",
       "\n",
       "    .dataframe tbody tr th {\n",
       "        vertical-align: top;\n",
       "    }\n",
       "\n",
       "    .dataframe thead th {\n",
       "        text-align: right;\n",
       "    }\n",
       "</style>\n",
       "<table border=\"1\" class=\"dataframe\">\n",
       "  <thead>\n",
       "    <tr style=\"text-align: right;\">\n",
       "      <th></th>\n",
       "      <th>adr</th>\n",
       "      <th>hotel</th>\n",
       "    </tr>\n",
       "    <tr>\n",
       "      <th>arrival_date_day_of_month</th>\n",
       "      <th></th>\n",
       "      <th></th>\n",
       "    </tr>\n",
       "  </thead>\n",
       "  <tbody>\n",
       "    <tr>\n",
       "      <th>1</th>\n",
       "      <td>1052</td>\n",
       "      <td>1052</td>\n",
       "    </tr>\n",
       "    <tr>\n",
       "      <th>2</th>\n",
       "      <td>1019</td>\n",
       "      <td>1019</td>\n",
       "    </tr>\n",
       "    <tr>\n",
       "      <th>3</th>\n",
       "      <td>1110</td>\n",
       "      <td>1110</td>\n",
       "    </tr>\n",
       "    <tr>\n",
       "      <th>4</th>\n",
       "      <td>991</td>\n",
       "      <td>991</td>\n",
       "    </tr>\n",
       "    <tr>\n",
       "      <th>5</th>\n",
       "      <td>1223</td>\n",
       "      <td>1223</td>\n",
       "    </tr>\n",
       "    <tr>\n",
       "      <th>6</th>\n",
       "      <td>984</td>\n",
       "      <td>984</td>\n",
       "    </tr>\n",
       "    <tr>\n",
       "      <th>7</th>\n",
       "      <td>1086</td>\n",
       "      <td>1086</td>\n",
       "    </tr>\n",
       "    <tr>\n",
       "      <th>8</th>\n",
       "      <td>1288</td>\n",
       "      <td>1288</td>\n",
       "    </tr>\n",
       "    <tr>\n",
       "      <th>9</th>\n",
       "      <td>1149</td>\n",
       "      <td>1149</td>\n",
       "    </tr>\n",
       "    <tr>\n",
       "      <th>10</th>\n",
       "      <td>885</td>\n",
       "      <td>885</td>\n",
       "    </tr>\n",
       "    <tr>\n",
       "      <th>11</th>\n",
       "      <td>810</td>\n",
       "      <td>810</td>\n",
       "    </tr>\n",
       "    <tr>\n",
       "      <th>12</th>\n",
       "      <td>1062</td>\n",
       "      <td>1062</td>\n",
       "    </tr>\n",
       "    <tr>\n",
       "      <th>13</th>\n",
       "      <td>1054</td>\n",
       "      <td>1054</td>\n",
       "    </tr>\n",
       "    <tr>\n",
       "      <th>14</th>\n",
       "      <td>1150</td>\n",
       "      <td>1150</td>\n",
       "    </tr>\n",
       "    <tr>\n",
       "      <th>15</th>\n",
       "      <td>1325</td>\n",
       "      <td>1325</td>\n",
       "    </tr>\n",
       "    <tr>\n",
       "      <th>16</th>\n",
       "      <td>1195</td>\n",
       "      <td>1195</td>\n",
       "    </tr>\n",
       "    <tr>\n",
       "      <th>17</th>\n",
       "      <td>1414</td>\n",
       "      <td>1414</td>\n",
       "    </tr>\n",
       "    <tr>\n",
       "      <th>18</th>\n",
       "      <td>1021</td>\n",
       "      <td>1021</td>\n",
       "    </tr>\n",
       "    <tr>\n",
       "      <th>19</th>\n",
       "      <td>1131</td>\n",
       "      <td>1131</td>\n",
       "    </tr>\n",
       "    <tr>\n",
       "      <th>20</th>\n",
       "      <td>1182</td>\n",
       "      <td>1182</td>\n",
       "    </tr>\n",
       "    <tr>\n",
       "      <th>21</th>\n",
       "      <td>1019</td>\n",
       "      <td>1019</td>\n",
       "    </tr>\n",
       "    <tr>\n",
       "      <th>22</th>\n",
       "      <td>980</td>\n",
       "      <td>980</td>\n",
       "    </tr>\n",
       "    <tr>\n",
       "      <th>23</th>\n",
       "      <td>910</td>\n",
       "      <td>910</td>\n",
       "    </tr>\n",
       "    <tr>\n",
       "      <th>24</th>\n",
       "      <td>1045</td>\n",
       "      <td>1045</td>\n",
       "    </tr>\n",
       "    <tr>\n",
       "      <th>25</th>\n",
       "      <td>1087</td>\n",
       "      <td>1087</td>\n",
       "    </tr>\n",
       "    <tr>\n",
       "      <th>26</th>\n",
       "      <td>1161</td>\n",
       "      <td>1161</td>\n",
       "    </tr>\n",
       "    <tr>\n",
       "      <th>27</th>\n",
       "      <td>1042</td>\n",
       "      <td>1042</td>\n",
       "    </tr>\n",
       "    <tr>\n",
       "      <th>28</th>\n",
       "      <td>1138</td>\n",
       "      <td>1138</td>\n",
       "    </tr>\n",
       "    <tr>\n",
       "      <th>29</th>\n",
       "      <td>939</td>\n",
       "      <td>939</td>\n",
       "    </tr>\n",
       "    <tr>\n",
       "      <th>30</th>\n",
       "      <td>1115</td>\n",
       "      <td>1115</td>\n",
       "    </tr>\n",
       "    <tr>\n",
       "      <th>31</th>\n",
       "      <td>535</td>\n",
       "      <td>535</td>\n",
       "    </tr>\n",
       "  </tbody>\n",
       "</table>\n",
       "</div>"
      ],
      "text/plain": [
       "                            adr  hotel\n",
       "arrival_date_day_of_month             \n",
       "1                          1052   1052\n",
       "2                          1019   1019\n",
       "3                          1110   1110\n",
       "4                           991    991\n",
       "5                          1223   1223\n",
       "6                           984    984\n",
       "7                          1086   1086\n",
       "8                          1288   1288\n",
       "9                          1149   1149\n",
       "10                          885    885\n",
       "11                          810    810\n",
       "12                         1062   1062\n",
       "13                         1054   1054\n",
       "14                         1150   1150\n",
       "15                         1325   1325\n",
       "16                         1195   1195\n",
       "17                         1414   1414\n",
       "18                         1021   1021\n",
       "19                         1131   1131\n",
       "20                         1182   1182\n",
       "21                         1019   1019\n",
       "22                          980    980\n",
       "23                          910    910\n",
       "24                         1045   1045\n",
       "25                         1087   1087\n",
       "26                         1161   1161\n",
       "27                         1042   1042\n",
       "28                         1138   1138\n",
       "29                          939    939\n",
       "30                         1115   1115\n",
       "31                          535    535"
      ]
     },
     "execution_count": 171,
     "metadata": {},
     "output_type": "execute_result"
    }
   ],
   "source": [
    "# Your code here (a)\n",
    "subsemi1[subsemi1['hotel'].str.contains('City Hotel')].groupby('arrival_date_day_of_month').count()"
   ]
  },
  {
   "cell_type": "code",
   "execution_count": 19,
   "id": "787c03de",
   "metadata": {},
   "outputs": [],
   "source": [
    "# Your code here (b)"
   ]
  },
  {
   "cell_type": "markdown",
   "id": "37d84535",
   "metadata": {},
   "source": [
    "### Question 5\n",
    "\n",
    "Consider the non-cancelled bookings only.\n",
    "\n",
    "#### (a)\n",
    "Plot the distribution of stay duration (in number of days) of guests at each hotel."
   ]
  },
  {
   "cell_type": "code",
   "execution_count": 20,
   "id": "66f1b50e",
   "metadata": {},
   "outputs": [],
   "source": [
    "# Your code here (a)"
   ]
  },
  {
   "cell_type": "markdown",
   "id": "ea761cd5",
   "metadata": {},
   "source": [
    "### Question 6\n",
    "\n",
    "#### (a), (b) & (c)\n",
    "Make three visualizations, showing some interesting insights from the data. \n",
    "\n",
    "The visualizations should be accompanied by a brief textual description highlighting your finding."
   ]
  },
  {
   "cell_type": "code",
   "execution_count": 20,
   "id": "2f9a8a8d",
   "metadata": {},
   "outputs": [],
   "source": [
    "# Your code here (a)"
   ]
  },
  {
   "cell_type": "code",
   "execution_count": 20,
   "id": "5fdbbe6d",
   "metadata": {},
   "outputs": [],
   "source": [
    "# Your code here (b)"
   ]
  },
  {
   "cell_type": "code",
   "execution_count": 20,
   "id": "708ab314",
   "metadata": {},
   "outputs": [],
   "source": [
    "# Your code here (c)"
   ]
  },
  {
   "cell_type": "markdown",
   "id": "bc43caa5",
   "metadata": {},
   "source": [
    "## Part B - Pre-processing\n",
    "\n",
    "For this part, **you are required to document the reasoning behind all the data transformations you devise and the insights you gain from each question.** Create **markdown cells** to add your answers. \n",
    "\n",
    "### Task Description\n",
    "\n",
    "The task is to classify whether a booking will be cancelled or not. \n"
   ]
  },
  {
   "cell_type": "markdown",
   "id": "1e0dab07",
   "metadata": {},
   "source": [
    "### Question 1\n",
    "**Feature Selection**\n",
    "\n",
    "#### (a)\n",
    "List the features which seem to contribute to data leakage. These will be the features which are related to the predicitve target, but would not be available at prediction time in a real-world setting. \n",
    "\n",
    "#### (b)\n",
    "Find out the percent of missing values of each column and visualize using [missingno](https://github.com/ResidentMario/missingno) . Which features have too many missing values? And which features have sufficiently low number of missing values, such that they can be safely imputed without significantly affecting the overall data distribution.\n",
    "\n",
    "#### (c)\n",
    "Visualize the correlations among the different input features.\n",
    "\n",
    "#### (d)\n",
    "Find out the correlation of each of the input features with the target attribute.\n",
    "\n",
    "#### (e)\n",
    "Using your answers to the previous parts, filter out the irrelevant features from the dataset.\n",
    "\n",
    "Remember to document your findings for each part."
   ]
  },
  {
   "cell_type": "code",
   "execution_count": 21,
   "id": "d40963cc",
   "metadata": {},
   "outputs": [],
   "source": [
    "# Your code here (a)"
   ]
  },
  {
   "cell_type": "code",
   "execution_count": 22,
   "id": "aa389b47",
   "metadata": {},
   "outputs": [],
   "source": [
    "# Your code here (b)"
   ]
  },
  {
   "cell_type": "code",
   "execution_count": 23,
   "id": "f30fd629",
   "metadata": {},
   "outputs": [],
   "source": [
    "# Your code here (c)"
   ]
  },
  {
   "cell_type": "code",
   "execution_count": 24,
   "id": "ebac44f5",
   "metadata": {},
   "outputs": [],
   "source": [
    "# Your code here (d)"
   ]
  },
  {
   "cell_type": "code",
   "execution_count": 25,
   "id": "91a0eb13",
   "metadata": {},
   "outputs": [],
   "source": [
    "# Your code here (e)"
   ]
  },
  {
   "cell_type": "markdown",
   "id": "494a1213",
   "metadata": {},
   "source": [
    "### Question 2\n",
    "\n",
    "For this question, use sklearn transformations. \n",
    "\n",
    "Develop appropriate encoding and scaling steps for the categorical and numerical columns in your dataset respectively. \n",
    "\n",
    "For this question, a single sklearn `Transformer` should be developed which can be applied for the entire dataset.\n",
    "If separate transformations need to be applied for different columns, then compose them into a single transformation using sklearn's `ColumnTransformer`.  "
   ]
  },
  {
   "cell_type": "code",
   "execution_count": 32,
   "id": "d8c5c8ce",
   "metadata": {},
   "outputs": [],
   "source": [
    "# Your code here"
   ]
  },
  {
   "cell_type": "markdown",
   "id": "27ebfea5",
   "metadata": {},
   "source": [
    "## Part C - Modeling\n",
    "\n",
    "Now, you will be training different ML models to perform the required predictive task. Specifically, the following classification models will be trained:\n",
    "* kNN\n",
    "* Naive Bayes\n",
    "* Decision tree\n",
    "* [xgboost](https://xgboost.readthedocs.io/en/latest/python/python_api.html) "
   ]
  },
  {
   "cell_type": "markdown",
   "id": "fc18d2c9",
   "metadata": {},
   "source": [
    "### Question 1\n",
    "\n",
    "Split your data into training and testing data, with 85% of the dataset going to testing data. Set a suitable seed value so that the splits are reproducible"
   ]
  },
  {
   "cell_type": "code",
   "execution_count": 34,
   "id": "4c2e9951",
   "metadata": {},
   "outputs": [],
   "source": [
    "### Your code here"
   ]
  },
  {
   "cell_type": "markdown",
   "id": "bf7e75ac",
   "metadata": {},
   "source": [
    "### Question 2\n",
    "\n",
    "For each of the required models perform the following tasks:\n",
    "* Compose an sklearn pipeline with the developed pre-processing (developed in the previous part) and the model.\n",
    "* Train the model with default hyper-parameters and report its evlauation score on the test set.\n",
    "* Tune the hyper-parameters of the model with `GridSearchCV`.\n",
    "* Report the accuracy, balanced accuracy, F1, ROC AUC and average predicion scores of the best model on the test set."
   ]
  },
  {
   "cell_type": "markdown",
   "id": "13805f62",
   "metadata": {},
   "source": [
    "#### kNN"
   ]
  },
  {
   "cell_type": "code",
   "execution_count": 35,
   "id": "2f64d57e",
   "metadata": {},
   "outputs": [],
   "source": [
    "### Your code here"
   ]
  },
  {
   "cell_type": "code",
   "execution_count": 36,
   "id": "c15b008b",
   "metadata": {},
   "outputs": [],
   "source": [
    "### Your code here"
   ]
  },
  {
   "cell_type": "code",
   "execution_count": null,
   "id": "c8931b48",
   "metadata": {},
   "outputs": [],
   "source": [
    "### Your code here"
   ]
  },
  {
   "cell_type": "markdown",
   "id": "963e4851",
   "metadata": {},
   "source": [
    "#### Naive Bayes"
   ]
  },
  {
   "cell_type": "code",
   "execution_count": 35,
   "id": "af6f981f",
   "metadata": {},
   "outputs": [],
   "source": [
    "### Your code here"
   ]
  },
  {
   "cell_type": "code",
   "execution_count": 36,
   "id": "f66837d3",
   "metadata": {},
   "outputs": [],
   "source": [
    "### Your code here"
   ]
  },
  {
   "cell_type": "code",
   "execution_count": null,
   "id": "53d119fc",
   "metadata": {},
   "outputs": [],
   "source": [
    "### Your code here"
   ]
  },
  {
   "cell_type": "markdown",
   "id": "0646b861",
   "metadata": {},
   "source": [
    "#### Decision Tree"
   ]
  },
  {
   "cell_type": "code",
   "execution_count": 35,
   "id": "c6244105",
   "metadata": {},
   "outputs": [],
   "source": [
    "### Your code here"
   ]
  },
  {
   "cell_type": "code",
   "execution_count": 36,
   "id": "760ffa0a",
   "metadata": {},
   "outputs": [],
   "source": [
    "### Your code here"
   ]
  },
  {
   "cell_type": "code",
   "execution_count": null,
   "id": "09affb3f",
   "metadata": {},
   "outputs": [],
   "source": [
    "### Your code here"
   ]
  },
  {
   "cell_type": "markdown",
   "id": "fb2bf3a0",
   "metadata": {},
   "source": [
    "#### xgboost"
   ]
  },
  {
   "cell_type": "code",
   "execution_count": 35,
   "id": "c096fc9c",
   "metadata": {},
   "outputs": [],
   "source": [
    "### Your code here"
   ]
  },
  {
   "cell_type": "code",
   "execution_count": 36,
   "id": "edf2b031",
   "metadata": {},
   "outputs": [],
   "source": [
    "### Your code here"
   ]
  },
  {
   "cell_type": "code",
   "execution_count": 37,
   "id": "4f746ce4",
   "metadata": {},
   "outputs": [],
   "source": [
    "### Your code here"
   ]
  },
  {
   "cell_type": "markdown",
   "id": "05f870d0",
   "metadata": {},
   "source": [
    "### Question 3\n",
    "\n",
    "#### (a)\n",
    "Plot a bar chart showing the results of the different models (the tuned ones). Show the following metrics:\n",
    "* Accuracy\n",
    "* Balanced accuracy\n",
    "* F1 score\n",
    "* ROC AUC \n",
    "* Average precision\n",
    "\n",
    "#### (b)\n",
    "Describe your results for different models and your performance in comparison to the random selection baseline.\n",
    "\n",
    "#### (c)\n",
    "Which of the above is the most suitable metric for evaluation in this case? Justify your answer. Now with that metric, select which model performed the best? This model is now your best overall model."
   ]
  },
  {
   "cell_type": "code",
   "execution_count": null,
   "id": "62b6d773",
   "metadata": {},
   "outputs": [],
   "source": [
    "### Your code here (a)"
   ]
  },
  {
   "cell_type": "markdown",
   "id": "49493049",
   "metadata": {},
   "source": [
    "Your answer to (b) here"
   ]
  },
  {
   "cell_type": "markdown",
   "id": "bbf7b75f",
   "metadata": {},
   "source": [
    "Your answer to (c) here"
   ]
  },
  {
   "cell_type": "markdown",
   "id": "a61eac6c",
   "metadata": {},
   "source": [
    "### Question 4\n",
    "Using your best overall model, plot the following:\n",
    "\n",
    "#### (a)\n",
    "Confusion Matrix (appropriate labels should be shown)\n",
    "\n",
    "#### (b)\n",
    "Precision Recall curve\n",
    "\n",
    "#### (c)\n",
    "ROC curve (Also show ROC for random classifier on the same plot)"
   ]
  },
  {
   "cell_type": "code",
   "execution_count": null,
   "id": "a55c78b1",
   "metadata": {},
   "outputs": [],
   "source": []
  }
 ],
 "metadata": {
  "kernelspec": {
   "display_name": "Python 3",
   "language": "python",
   "name": "python3"
  },
  "language_info": {
   "codemirror_mode": {
    "name": "ipython",
    "version": 3
   },
   "file_extension": ".py",
   "mimetype": "text/x-python",
   "name": "python",
   "nbconvert_exporter": "python",
   "pygments_lexer": "ipython3",
   "version": "3.6.13"
  }
 },
 "nbformat": 4,
 "nbformat_minor": 5
}
