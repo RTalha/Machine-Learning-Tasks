{
 "cells": [
  {
   "cell_type": "code",
   "execution_count": 1,
   "id": "c94d3919-d42c-43f9-a14c-d56f6da73527",
   "metadata": {},
   "outputs": [],
   "source": [
    "from sklearn.datasets import load_iris\n",
    "from sklearn.svm import SVC\n",
    "from sklearn.model_selection import train_test_split, GridSearchCV, cross_val_score\n",
    "import pandas as pd\n",
    "import numpy as np\n",
    "import matplotlib.pyplot as plt\n",
    "import warnings\n",
    "warnings.filterwarnings('ignore')\n"
   ]
  },
  {
   "cell_type": "code",
   "execution_count": 2,
   "id": "6bbf9968-f854-4101-83bf-dbee29408997",
   "metadata": {},
   "outputs": [],
   "source": [
    "data=load_iris()"
   ]
  },
  {
   "cell_type": "code",
   "execution_count": 3,
   "id": "26f02e3c-6996-4c95-8a79-068cb3bd7507",
   "metadata": {},
   "outputs": [
    {
     "name": "stdout",
     "output_type": "stream",
     "text": [
      "0.9800000000000001\n",
      "0.9800000000000001\n",
      "0.9666666666666666\n"
     ]
    }
   ],
   "source": [
    "#manual hyper perameter tunning\n",
    "print(np.mean(cross_val_score(SVC(kernel='linear',C=1,gamma='auto'),data.data,data.target,cv=5)))\n",
    "print(np.mean(cross_val_score(SVC(kernel='rbf',C=5,gamma='auto'),data.data,data.target,cv=5)))\n",
    "print(np.mean(cross_val_score(SVC(kernel='poly',C=1,gamma='auto'),data.data,data.target,cv=5)))"
   ]
  },
  {
   "cell_type": "code",
   "execution_count": 4,
   "id": "43ea6ae7-addb-4619-a3a2-2332dd1ca2d3",
   "metadata": {},
   "outputs": [
    {
     "data": {
      "text/plain": [
       "GridSearchCV(cv=5, estimator=SVC(gamma='auto'),\n",
       "             param_grid={'C': [1, 2, 3, 4, 5, 6],\n",
       "                         'kernel': ['rbf', 'poly', 'linear']})"
      ]
     },
     "execution_count": 4,
     "metadata": {},
     "output_type": "execute_result"
    }
   ],
   "source": [
    "#auto hyper perameter tunning using GridsearchCV\n",
    "clf=GridSearchCV(SVC(gamma='auto'),{\n",
    "    'C':[1,2,3,4,5,6],\n",
    "    'kernel':['rbf','poly','linear']\n",
    "},cv=5,return_train_score=False)\n",
    "clf.fit(data.data,data.target)"
   ]
  },
  {
   "cell_type": "code",
   "execution_count": 5,
   "id": "7ca4b484-138c-433d-9a42-5fa030df24d6",
   "metadata": {},
   "outputs": [
    {
     "data": {
      "text/html": [
       "<div>\n",
       "<style scoped>\n",
       "    .dataframe tbody tr th:only-of-type {\n",
       "        vertical-align: middle;\n",
       "    }\n",
       "\n",
       "    .dataframe tbody tr th {\n",
       "        vertical-align: top;\n",
       "    }\n",
       "\n",
       "    .dataframe thead th {\n",
       "        text-align: right;\n",
       "    }\n",
       "</style>\n",
       "<table border=\"1\" class=\"dataframe\">\n",
       "  <thead>\n",
       "    <tr style=\"text-align: right;\">\n",
       "      <th></th>\n",
       "      <th>params</th>\n",
       "      <th>mean_test_score</th>\n",
       "    </tr>\n",
       "  </thead>\n",
       "  <tbody>\n",
       "    <tr>\n",
       "      <th>0</th>\n",
       "      <td>{'C': 1, 'kernel': 'rbf'}</td>\n",
       "      <td>0.980000</td>\n",
       "    </tr>\n",
       "    <tr>\n",
       "      <th>1</th>\n",
       "      <td>{'C': 1, 'kernel': 'poly'}</td>\n",
       "      <td>0.966667</td>\n",
       "    </tr>\n",
       "    <tr>\n",
       "      <th>2</th>\n",
       "      <td>{'C': 1, 'kernel': 'linear'}</td>\n",
       "      <td>0.980000</td>\n",
       "    </tr>\n",
       "    <tr>\n",
       "      <th>3</th>\n",
       "      <td>{'C': 2, 'kernel': 'rbf'}</td>\n",
       "      <td>0.980000</td>\n",
       "    </tr>\n",
       "    <tr>\n",
       "      <th>4</th>\n",
       "      <td>{'C': 2, 'kernel': 'poly'}</td>\n",
       "      <td>0.966667</td>\n",
       "    </tr>\n",
       "    <tr>\n",
       "      <th>5</th>\n",
       "      <td>{'C': 2, 'kernel': 'linear'}</td>\n",
       "      <td>0.980000</td>\n",
       "    </tr>\n",
       "    <tr>\n",
       "      <th>6</th>\n",
       "      <td>{'C': 3, 'kernel': 'rbf'}</td>\n",
       "      <td>0.973333</td>\n",
       "    </tr>\n",
       "    <tr>\n",
       "      <th>7</th>\n",
       "      <td>{'C': 3, 'kernel': 'poly'}</td>\n",
       "      <td>0.966667</td>\n",
       "    </tr>\n",
       "    <tr>\n",
       "      <th>8</th>\n",
       "      <td>{'C': 3, 'kernel': 'linear'}</td>\n",
       "      <td>0.973333</td>\n",
       "    </tr>\n",
       "    <tr>\n",
       "      <th>9</th>\n",
       "      <td>{'C': 4, 'kernel': 'rbf'}</td>\n",
       "      <td>0.986667</td>\n",
       "    </tr>\n",
       "    <tr>\n",
       "      <th>10</th>\n",
       "      <td>{'C': 4, 'kernel': 'poly'}</td>\n",
       "      <td>0.966667</td>\n",
       "    </tr>\n",
       "    <tr>\n",
       "      <th>11</th>\n",
       "      <td>{'C': 4, 'kernel': 'linear'}</td>\n",
       "      <td>0.973333</td>\n",
       "    </tr>\n",
       "    <tr>\n",
       "      <th>12</th>\n",
       "      <td>{'C': 5, 'kernel': 'rbf'}</td>\n",
       "      <td>0.980000</td>\n",
       "    </tr>\n",
       "    <tr>\n",
       "      <th>13</th>\n",
       "      <td>{'C': 5, 'kernel': 'poly'}</td>\n",
       "      <td>0.966667</td>\n",
       "    </tr>\n",
       "    <tr>\n",
       "      <th>14</th>\n",
       "      <td>{'C': 5, 'kernel': 'linear'}</td>\n",
       "      <td>0.980000</td>\n",
       "    </tr>\n",
       "    <tr>\n",
       "      <th>15</th>\n",
       "      <td>{'C': 6, 'kernel': 'rbf'}</td>\n",
       "      <td>0.980000</td>\n",
       "    </tr>\n",
       "    <tr>\n",
       "      <th>16</th>\n",
       "      <td>{'C': 6, 'kernel': 'poly'}</td>\n",
       "      <td>0.966667</td>\n",
       "    </tr>\n",
       "    <tr>\n",
       "      <th>17</th>\n",
       "      <td>{'C': 6, 'kernel': 'linear'}</td>\n",
       "      <td>0.973333</td>\n",
       "    </tr>\n",
       "  </tbody>\n",
       "</table>\n",
       "</div>"
      ],
      "text/plain": [
       "                          params  mean_test_score\n",
       "0      {'C': 1, 'kernel': 'rbf'}         0.980000\n",
       "1     {'C': 1, 'kernel': 'poly'}         0.966667\n",
       "2   {'C': 1, 'kernel': 'linear'}         0.980000\n",
       "3      {'C': 2, 'kernel': 'rbf'}         0.980000\n",
       "4     {'C': 2, 'kernel': 'poly'}         0.966667\n",
       "5   {'C': 2, 'kernel': 'linear'}         0.980000\n",
       "6      {'C': 3, 'kernel': 'rbf'}         0.973333\n",
       "7     {'C': 3, 'kernel': 'poly'}         0.966667\n",
       "8   {'C': 3, 'kernel': 'linear'}         0.973333\n",
       "9      {'C': 4, 'kernel': 'rbf'}         0.986667\n",
       "10    {'C': 4, 'kernel': 'poly'}         0.966667\n",
       "11  {'C': 4, 'kernel': 'linear'}         0.973333\n",
       "12     {'C': 5, 'kernel': 'rbf'}         0.980000\n",
       "13    {'C': 5, 'kernel': 'poly'}         0.966667\n",
       "14  {'C': 5, 'kernel': 'linear'}         0.980000\n",
       "15     {'C': 6, 'kernel': 'rbf'}         0.980000\n",
       "16    {'C': 6, 'kernel': 'poly'}         0.966667\n",
       "17  {'C': 6, 'kernel': 'linear'}         0.973333"
      ]
     },
     "execution_count": 5,
     "metadata": {},
     "output_type": "execute_result"
    }
   ],
   "source": [
    "df=pd.DataFrame(clf.cv_results_)\n",
    "df[['params','mean_test_score']]"
   ]
  },
  {
   "cell_type": "code",
   "execution_count": 6,
   "id": "89c95349-f4bd-438c-a876-b90bdee4aba4",
   "metadata": {},
   "outputs": [
    {
     "data": {
      "text/plain": [
       "0.9866666666666667"
      ]
     },
     "execution_count": 6,
     "metadata": {},
     "output_type": "execute_result"
    }
   ],
   "source": [
    "clf.best_score_"
   ]
  },
  {
   "cell_type": "code",
   "execution_count": 7,
   "id": "25cea8c8-9b43-4727-bc88-178d846f88f1",
   "metadata": {},
   "outputs": [
    {
     "data": {
      "text/plain": [
       "{'C': 4, 'kernel': 'rbf'}"
      ]
     },
     "execution_count": 7,
     "metadata": {},
     "output_type": "execute_result"
    }
   ],
   "source": [
    "clf.best_params_"
   ]
  },
  {
   "cell_type": "markdown",
   "id": "73906546-c493-4222-8b5d-c5cbff1fab04",
   "metadata": {},
   "source": [
    "#Randoize grid Search\n",
    " reduces computional cost for combinations and permutations"
   ]
  },
  {
   "cell_type": "code",
   "execution_count": 15,
   "id": "873690f3-929b-47ac-980b-58922220cf4e",
   "metadata": {},
   "outputs": [
    {
     "name": "stdout",
     "output_type": "stream",
     "text": [
      "['__abstractmethods__', '__class__', '__delattr__', '__dict__', '__dir__', '__doc__', '__eq__', '__format__', '__ge__', '__getattribute__', '__getstate__', '__gt__', '__hash__', '__init__', '__init_subclass__', '__le__', '__lt__', '__module__', '__ne__', '__new__', '__reduce__', '__reduce_ex__', '__repr__', '__setattr__', '__setstate__', '__sizeof__', '__str__', '__subclasshook__', '__weakref__', '_abc_cache', '_abc_negative_cache', '_abc_negative_cache_version', '_abc_registry', '_check_is_fitted', '_check_n_features', '_check_refit_for_multimetric', '_estimator_type', '_format_results', '_get_param_names', '_get_tags', '_more_tags', '_pairwise', '_repr_html_', '_repr_html_inner', '_repr_mimebundle_', '_required_parameters', '_run_search', '_validate_data', 'best_estimator_', 'best_index_', 'best_params_', 'best_score_', 'classes_', 'cv', 'cv_results_', 'decision_function', 'error_score', 'estimator', 'fit', 'get_params', 'inverse_transform', 'multimetric_', 'n_features_in_', 'n_iter', 'n_jobs', 'n_splits_', 'param_distributions', 'pre_dispatch', 'predict', 'predict_log_proba', 'predict_proba', 'random_state', 'refit', 'refit_time_', 'return_train_score', 'score', 'score_samples', 'scorer_', 'scoring', 'set_params', 'transform', 'verbose']\n"
     ]
    },
    {
     "data": {
      "text/html": [
       "<div>\n",
       "<style scoped>\n",
       "    .dataframe tbody tr th:only-of-type {\n",
       "        vertical-align: middle;\n",
       "    }\n",
       "\n",
       "    .dataframe tbody tr th {\n",
       "        vertical-align: top;\n",
       "    }\n",
       "\n",
       "    .dataframe thead th {\n",
       "        text-align: right;\n",
       "    }\n",
       "</style>\n",
       "<table border=\"1\" class=\"dataframe\">\n",
       "  <thead>\n",
       "    <tr style=\"text-align: right;\">\n",
       "      <th></th>\n",
       "      <th>params</th>\n",
       "      <th>mean_test_score</th>\n",
       "    </tr>\n",
       "  </thead>\n",
       "  <tbody>\n",
       "    <tr>\n",
       "      <th>0</th>\n",
       "      <td>{'kernel': 'rbf', 'C': 4}</td>\n",
       "      <td>0.986667</td>\n",
       "    </tr>\n",
       "    <tr>\n",
       "      <th>1</th>\n",
       "      <td>{'kernel': 'linear', 'C': 19}</td>\n",
       "      <td>0.966667</td>\n",
       "    </tr>\n",
       "    <tr>\n",
       "      <th>2</th>\n",
       "      <td>{'kernel': 'poly', 'C': 16}</td>\n",
       "      <td>0.960000</td>\n",
       "    </tr>\n",
       "    <tr>\n",
       "      <th>3</th>\n",
       "      <td>{'kernel': 'rbf', 'C': 16}</td>\n",
       "      <td>0.973333</td>\n",
       "    </tr>\n",
       "    <tr>\n",
       "      <th>4</th>\n",
       "      <td>{'kernel': 'rbf', 'C': 5}</td>\n",
       "      <td>0.980000</td>\n",
       "    </tr>\n",
       "    <tr>\n",
       "      <th>5</th>\n",
       "      <td>{'kernel': 'rbf', 'C': 0}</td>\n",
       "      <td>NaN</td>\n",
       "    </tr>\n",
       "    <tr>\n",
       "      <th>6</th>\n",
       "      <td>{'kernel': 'poly', 'C': 14}</td>\n",
       "      <td>0.960000</td>\n",
       "    </tr>\n",
       "  </tbody>\n",
       "</table>\n",
       "</div>"
      ],
      "text/plain": [
       "                          params  mean_test_score\n",
       "0      {'kernel': 'rbf', 'C': 4}         0.986667\n",
       "1  {'kernel': 'linear', 'C': 19}         0.966667\n",
       "2    {'kernel': 'poly', 'C': 16}         0.960000\n",
       "3     {'kernel': 'rbf', 'C': 16}         0.973333\n",
       "4      {'kernel': 'rbf', 'C': 5}         0.980000\n",
       "5      {'kernel': 'rbf', 'C': 0}              NaN\n",
       "6    {'kernel': 'poly', 'C': 14}         0.960000"
      ]
     },
     "execution_count": 15,
     "metadata": {},
     "output_type": "execute_result"
    }
   ],
   "source": [
    "from sklearn.model_selection import RandomizedSearchCV\n",
    "clf=RandomizedSearchCV(SVC(gamma='auto'),\n",
    "                       {\n",
    "                           'C':[i for i in range(0,20)],\n",
    "                           'kernel':['rbf','linear','poly']\n",
    "                       },\n",
    "                      cv=5,n_iter=7)\n",
    "clf.fit(data.data,data.target)\n",
    "print(dir(clf))\n",
    "pd.DataFrame(clf.cv_results_)[['params','mean_test_score']]"
   ]
  },
  {
   "cell_type": "code",
   "execution_count": null,
   "id": "c74bda3e-228b-454d-91be-30795e2a2ef5",
   "metadata": {},
   "outputs": [],
   "source": []
  }
 ],
 "metadata": {
  "kernelspec": {
   "display_name": "Python 3",
   "language": "python",
   "name": "python3"
  },
  "language_info": {
   "codemirror_mode": {
    "name": "ipython",
    "version": 3
   },
   "file_extension": ".py",
   "mimetype": "text/x-python",
   "name": "python",
   "nbconvert_exporter": "python",
   "pygments_lexer": "ipython3",
   "version": "3.6.13"
  }
 },
 "nbformat": 4,
 "nbformat_minor": 5
}
