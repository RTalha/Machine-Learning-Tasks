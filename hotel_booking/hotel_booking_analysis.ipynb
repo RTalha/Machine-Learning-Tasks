{
 "cells": [
  {
   "cell_type": "markdown",
   "id": "988c94f2",
   "metadata": {},
   "source": [
    "# Room Cancellation Classification\n",
    "\n",
    "In this assignment, you will be performing EDA and predictive modelling on a dataset of hotel reservations. The dataset is available from the attached `hotel_bookings.csv` file.\n",
    "\n",
    "In this Jupyter notebook, please, document your results and the way you have obtained them. The results of each sub-question should be printed as the result of its corresponding cell.\n",
    "Please make sure that the datasets and other outputs are easily identifiable, i.e. use descriptive names for as is suitable for each corresponding question.\n",
    "Give your commented Python code and answers in the corresponding provided cells. Make sure to answer all questions in a clear and explicit manner. _Please do not change the general structure of this notebook_. You can, however, **add additional markdown or code cells** if necessary. <b>Please DO NOT CLEAR THE OUTPUT of the notebook you are submitting! </b>\n",
    "\n",
    "**Submission instructions**:\n",
    "For submission, make a zip file containing your notebook and the attached dataset and name it as `<your_roll_number>_a3.zip` "
   ]
  },
  {
   "cell_type": "code",
   "execution_count": 1,
   "id": "39d2a291",
   "metadata": {},
   "outputs": [],
   "source": [
    "# Add all imports here\n",
    "import pandas as pd\n",
    "import numpy as np\n",
    "import matplotlib.pyplot as plt\n",
    "from sklearn.model_selection import train_test_split, cross_val_score\n",
    "from sklearn.tree import DecisionTreeClassifier\n",
    "from sklearn.metrics import classification_report, accuracy_score, confusion_matrix\n",
    "import warnings\n",
    "warnings.filterwarnings('ignore')"
   ]
  },
  {
   "cell_type": "code",
   "execution_count": 2,
   "id": "e5d168a2",
   "metadata": {},
   "outputs": [],
   "source": [
    "df = pd.read_csv(\"hotel_bookings.csv\")"
   ]
  },
  {
   "cell_type": "markdown",
   "id": "f5913ef9",
   "metadata": {},
   "source": [
    "## Data Description\n",
    "\n",
    "[Original Source](https://github.com/rfordatascience/tidytuesday/blob/master/data/2020/2020-02-11/readme.md)\n",
    "\n",
    "This data consists of room reservations for two hotels: (i) a city hotel and (ii) a resort hotel. The columns are described as follows:\n",
    "\n",
    "|variable                       |class     |description |\n",
    "|:------------------------------|:---------|:-----------|\n",
    "|hotel                          |character | Hotel (H1 = Resort Hotel or H2 = City Hotel) |\n",
    "|is_canceled                    |double    | Value indicating if the booking was canceled (1) or not (0) |\n",
    "|lead_time                      |double    | Number of days that elapsed between the entering date of the booking into the PMS and the arrival date |\n",
    "|arrival_date_year              |double    | Year of arrival date|\n",
    "|arrival_date_month             |character | Month of arrival date|\n",
    "|arrival_date_week_number       |double    | Week number of year for arrival date|\n",
    "|arrival_date_day_of_month      |double    | Day of arrival date|\n",
    "|stays_in_weekend_nights        |double    | Number of weekend nights (Saturday or Sunday) the guest stayed or booked to stay at the hotel |\n",
    "|stays_in_week_nights           |double    |  Number of week nights (Monday to Friday) the guest stayed or booked to stay at the hotel|\n",
    "|adults                         |double    | Number of adults|\n",
    "|children                       |double    | Number of children|\n",
    "|babies                         |double    |Number of babies |\n",
    "|meal                           |character | Type of meal booked. Categories are presented in standard hospitality meal packages: <br> Undefined/SC – no meal package;<br>BB – Bed & Breakfast; <br> HB – Half board (breakfast and one other meal – usually dinner); <br> FB – Full board (breakfast, lunch and dinner) |\n",
    "|country                        |character | Country of origin. Categories are represented in the ISO 3155–3:2013 format |\n",
    "|market_segment                 |character | Market segment designation. In categories, the term “TA” means “Travel Agents” and “TO” means “Tour Operators” |\n",
    "|distribution_channel           |character | Booking distribution channel. The term “TA” means “Travel Agents” and “TO” means “Tour Operators” |\n",
    "|is_repeated_guest              |double    | Value indicating if the booking name was from a repeated guest (1) or not (0) |\n",
    "|previous_cancellations         |double    | Number of previous bookings that were cancelled by the customer prior to the current booking |\n",
    "|previous_bookings_not_canceled |double    | Number of previous bookings not cancelled by the customer prior to the current booking |\n",
    "|reserved_room_type             |character | Code of room type reserved. Code is presented instead of designation for anonymity reasons |\n",
    "|assigned_room_type             |character | Code for the type of room assigned to the booking. Sometimes the assigned room type differs from the reserved room type due to hotel operation reasons (e.g. overbooking) or by customer request. Code is presented instead of designation for anonymity reasons |\n",
    "|booking_changes                |double    | Number of changes/amendments made to the booking from the moment the booking was entered on the PMS until the moment of check-in or cancellation|\n",
    "|deposit_type                   |character | Indication on if the customer made a deposit to guarantee the booking. This variable can assume three categories:<br>No Deposit – no deposit was made;<br>Non Refund – a deposit was made in the value of the total stay cost;<br>Refundable – a deposit was made with a value under the total cost of stay. |\n",
    "|agent                          |character | ID of the travel agency that made the booking |\n",
    "|company                        |character | ID of the company/entity that made the booking or responsible for paying the booking. ID is presented instead of designation for anonymity reasons |\n",
    "|days_in_waiting_list           |double    | Number of days the booking was in the waiting list before it was confirmed to the customer |\n",
    "|customer_type                  |character | Type of booking, assuming one of four categories:<br>Contract - when the booking has an allotment or other type of contract associated to it;<br>Group – when the booking is associated to a group;<br>Transient – when the booking is not part of a group or contract, and is not associated to other transient booking;<br>Transient-party – when the booking is transient, but is associated to at least other transient booking|\n",
    "|adr                            |double    | Average Daily Rate as defined by dividing the sum of all lodging transactions by the total number of staying nights |\n",
    "|required_car_parking_spaces    |double    | Number of car parking spaces required by the customer |\n",
    "|total_of_special_requests      |double    | Number of special requests made by the customer (e.g. twin bed or high floor)|\n",
    "|reservation_status             |character | Reservation last status, assuming one of three categories:<br>Canceled – booking was canceled by the customer;<br>Check-Out – customer has checked in but already departed;<br>No-Show – customer did not check-in and did inform the hotel of the reason why |\n",
    "|reservation_status_date        |double    | Date at which the last status was set. This variable can be used in conjunction with the ReservationStatus to understand when was the booking canceled or when did the customer checked-out of the hotel|\n"
   ]
  },
  {
   "cell_type": "markdown",
   "id": "be114fca",
   "metadata": {},
   "source": [
    "## Part 0\n",
    "\n",
    "The `children`, `adults` and `babies` columns cannot have a value of zero simultaneously. Filter out the rows, which show this behavior"
   ]
  },
  {
   "cell_type": "code",
   "execution_count": 42,
   "id": "d7bb2486",
   "metadata": {},
   "outputs": [
    {
     "name": "stdout",
     "output_type": "stream",
     "text": [
      "(119390, 32)\n"
     ]
    },
    {
     "data": {
      "text/html": [
       "<div>\n",
       "<style scoped>\n",
       "    .dataframe tbody tr th:only-of-type {\n",
       "        vertical-align: middle;\n",
       "    }\n",
       "\n",
       "    .dataframe tbody tr th {\n",
       "        vertical-align: top;\n",
       "    }\n",
       "\n",
       "    .dataframe thead th {\n",
       "        text-align: right;\n",
       "    }\n",
       "</style>\n",
       "<table border=\"1\" class=\"dataframe\">\n",
       "  <thead>\n",
       "    <tr style=\"text-align: right;\">\n",
       "      <th></th>\n",
       "      <th>hotel</th>\n",
       "      <th>is_canceled</th>\n",
       "      <th>lead_time</th>\n",
       "      <th>arrival_date_year</th>\n",
       "      <th>arrival_date_month</th>\n",
       "      <th>arrival_date_week_number</th>\n",
       "      <th>arrival_date_day_of_month</th>\n",
       "      <th>stays_in_weekend_nights</th>\n",
       "      <th>stays_in_week_nights</th>\n",
       "      <th>adults</th>\n",
       "      <th>...</th>\n",
       "      <th>deposit_type</th>\n",
       "      <th>agent</th>\n",
       "      <th>company</th>\n",
       "      <th>days_in_waiting_list</th>\n",
       "      <th>customer_type</th>\n",
       "      <th>adr</th>\n",
       "      <th>required_car_parking_spaces</th>\n",
       "      <th>total_of_special_requests</th>\n",
       "      <th>reservation_status</th>\n",
       "      <th>reservation_status_date</th>\n",
       "    </tr>\n",
       "  </thead>\n",
       "  <tbody>\n",
       "    <tr>\n",
       "      <th>0</th>\n",
       "      <td>Resort Hotel</td>\n",
       "      <td>0</td>\n",
       "      <td>342</td>\n",
       "      <td>2015</td>\n",
       "      <td>July</td>\n",
       "      <td>27</td>\n",
       "      <td>1</td>\n",
       "      <td>0</td>\n",
       "      <td>0</td>\n",
       "      <td>2</td>\n",
       "      <td>...</td>\n",
       "      <td>No Deposit</td>\n",
       "      <td>NaN</td>\n",
       "      <td>NaN</td>\n",
       "      <td>0</td>\n",
       "      <td>Transient</td>\n",
       "      <td>0.00</td>\n",
       "      <td>0</td>\n",
       "      <td>0</td>\n",
       "      <td>Check-Out</td>\n",
       "      <td>2015-07-01</td>\n",
       "    </tr>\n",
       "    <tr>\n",
       "      <th>1</th>\n",
       "      <td>Resort Hotel</td>\n",
       "      <td>0</td>\n",
       "      <td>737</td>\n",
       "      <td>2015</td>\n",
       "      <td>July</td>\n",
       "      <td>27</td>\n",
       "      <td>1</td>\n",
       "      <td>0</td>\n",
       "      <td>0</td>\n",
       "      <td>2</td>\n",
       "      <td>...</td>\n",
       "      <td>No Deposit</td>\n",
       "      <td>NaN</td>\n",
       "      <td>NaN</td>\n",
       "      <td>0</td>\n",
       "      <td>Transient</td>\n",
       "      <td>0.00</td>\n",
       "      <td>0</td>\n",
       "      <td>0</td>\n",
       "      <td>Check-Out</td>\n",
       "      <td>2015-07-01</td>\n",
       "    </tr>\n",
       "    <tr>\n",
       "      <th>2</th>\n",
       "      <td>Resort Hotel</td>\n",
       "      <td>0</td>\n",
       "      <td>7</td>\n",
       "      <td>2015</td>\n",
       "      <td>July</td>\n",
       "      <td>27</td>\n",
       "      <td>1</td>\n",
       "      <td>0</td>\n",
       "      <td>1</td>\n",
       "      <td>1</td>\n",
       "      <td>...</td>\n",
       "      <td>No Deposit</td>\n",
       "      <td>NaN</td>\n",
       "      <td>NaN</td>\n",
       "      <td>0</td>\n",
       "      <td>Transient</td>\n",
       "      <td>75.00</td>\n",
       "      <td>0</td>\n",
       "      <td>0</td>\n",
       "      <td>Check-Out</td>\n",
       "      <td>2015-07-02</td>\n",
       "    </tr>\n",
       "    <tr>\n",
       "      <th>3</th>\n",
       "      <td>Resort Hotel</td>\n",
       "      <td>0</td>\n",
       "      <td>13</td>\n",
       "      <td>2015</td>\n",
       "      <td>July</td>\n",
       "      <td>27</td>\n",
       "      <td>1</td>\n",
       "      <td>0</td>\n",
       "      <td>1</td>\n",
       "      <td>1</td>\n",
       "      <td>...</td>\n",
       "      <td>No Deposit</td>\n",
       "      <td>304.0</td>\n",
       "      <td>NaN</td>\n",
       "      <td>0</td>\n",
       "      <td>Transient</td>\n",
       "      <td>75.00</td>\n",
       "      <td>0</td>\n",
       "      <td>0</td>\n",
       "      <td>Check-Out</td>\n",
       "      <td>2015-07-02</td>\n",
       "    </tr>\n",
       "    <tr>\n",
       "      <th>4</th>\n",
       "      <td>Resort Hotel</td>\n",
       "      <td>0</td>\n",
       "      <td>14</td>\n",
       "      <td>2015</td>\n",
       "      <td>July</td>\n",
       "      <td>27</td>\n",
       "      <td>1</td>\n",
       "      <td>0</td>\n",
       "      <td>2</td>\n",
       "      <td>2</td>\n",
       "      <td>...</td>\n",
       "      <td>No Deposit</td>\n",
       "      <td>240.0</td>\n",
       "      <td>NaN</td>\n",
       "      <td>0</td>\n",
       "      <td>Transient</td>\n",
       "      <td>98.00</td>\n",
       "      <td>0</td>\n",
       "      <td>1</td>\n",
       "      <td>Check-Out</td>\n",
       "      <td>2015-07-03</td>\n",
       "    </tr>\n",
       "    <tr>\n",
       "      <th>...</th>\n",
       "      <td>...</td>\n",
       "      <td>...</td>\n",
       "      <td>...</td>\n",
       "      <td>...</td>\n",
       "      <td>...</td>\n",
       "      <td>...</td>\n",
       "      <td>...</td>\n",
       "      <td>...</td>\n",
       "      <td>...</td>\n",
       "      <td>...</td>\n",
       "      <td>...</td>\n",
       "      <td>...</td>\n",
       "      <td>...</td>\n",
       "      <td>...</td>\n",
       "      <td>...</td>\n",
       "      <td>...</td>\n",
       "      <td>...</td>\n",
       "      <td>...</td>\n",
       "      <td>...</td>\n",
       "      <td>...</td>\n",
       "      <td>...</td>\n",
       "    </tr>\n",
       "    <tr>\n",
       "      <th>119385</th>\n",
       "      <td>City Hotel</td>\n",
       "      <td>0</td>\n",
       "      <td>23</td>\n",
       "      <td>2017</td>\n",
       "      <td>August</td>\n",
       "      <td>35</td>\n",
       "      <td>30</td>\n",
       "      <td>2</td>\n",
       "      <td>5</td>\n",
       "      <td>2</td>\n",
       "      <td>...</td>\n",
       "      <td>No Deposit</td>\n",
       "      <td>394.0</td>\n",
       "      <td>NaN</td>\n",
       "      <td>0</td>\n",
       "      <td>Transient</td>\n",
       "      <td>96.14</td>\n",
       "      <td>0</td>\n",
       "      <td>0</td>\n",
       "      <td>Check-Out</td>\n",
       "      <td>2017-09-06</td>\n",
       "    </tr>\n",
       "    <tr>\n",
       "      <th>119386</th>\n",
       "      <td>City Hotel</td>\n",
       "      <td>0</td>\n",
       "      <td>102</td>\n",
       "      <td>2017</td>\n",
       "      <td>August</td>\n",
       "      <td>35</td>\n",
       "      <td>31</td>\n",
       "      <td>2</td>\n",
       "      <td>5</td>\n",
       "      <td>3</td>\n",
       "      <td>...</td>\n",
       "      <td>No Deposit</td>\n",
       "      <td>9.0</td>\n",
       "      <td>NaN</td>\n",
       "      <td>0</td>\n",
       "      <td>Transient</td>\n",
       "      <td>225.43</td>\n",
       "      <td>0</td>\n",
       "      <td>2</td>\n",
       "      <td>Check-Out</td>\n",
       "      <td>2017-09-07</td>\n",
       "    </tr>\n",
       "    <tr>\n",
       "      <th>119387</th>\n",
       "      <td>City Hotel</td>\n",
       "      <td>0</td>\n",
       "      <td>34</td>\n",
       "      <td>2017</td>\n",
       "      <td>August</td>\n",
       "      <td>35</td>\n",
       "      <td>31</td>\n",
       "      <td>2</td>\n",
       "      <td>5</td>\n",
       "      <td>2</td>\n",
       "      <td>...</td>\n",
       "      <td>No Deposit</td>\n",
       "      <td>9.0</td>\n",
       "      <td>NaN</td>\n",
       "      <td>0</td>\n",
       "      <td>Transient</td>\n",
       "      <td>157.71</td>\n",
       "      <td>0</td>\n",
       "      <td>4</td>\n",
       "      <td>Check-Out</td>\n",
       "      <td>2017-09-07</td>\n",
       "    </tr>\n",
       "    <tr>\n",
       "      <th>119388</th>\n",
       "      <td>City Hotel</td>\n",
       "      <td>0</td>\n",
       "      <td>109</td>\n",
       "      <td>2017</td>\n",
       "      <td>August</td>\n",
       "      <td>35</td>\n",
       "      <td>31</td>\n",
       "      <td>2</td>\n",
       "      <td>5</td>\n",
       "      <td>2</td>\n",
       "      <td>...</td>\n",
       "      <td>No Deposit</td>\n",
       "      <td>89.0</td>\n",
       "      <td>NaN</td>\n",
       "      <td>0</td>\n",
       "      <td>Transient</td>\n",
       "      <td>104.40</td>\n",
       "      <td>0</td>\n",
       "      <td>0</td>\n",
       "      <td>Check-Out</td>\n",
       "      <td>2017-09-07</td>\n",
       "    </tr>\n",
       "    <tr>\n",
       "      <th>119389</th>\n",
       "      <td>City Hotel</td>\n",
       "      <td>0</td>\n",
       "      <td>205</td>\n",
       "      <td>2017</td>\n",
       "      <td>August</td>\n",
       "      <td>35</td>\n",
       "      <td>29</td>\n",
       "      <td>2</td>\n",
       "      <td>7</td>\n",
       "      <td>2</td>\n",
       "      <td>...</td>\n",
       "      <td>No Deposit</td>\n",
       "      <td>9.0</td>\n",
       "      <td>NaN</td>\n",
       "      <td>0</td>\n",
       "      <td>Transient</td>\n",
       "      <td>151.20</td>\n",
       "      <td>0</td>\n",
       "      <td>2</td>\n",
       "      <td>Check-Out</td>\n",
       "      <td>2017-09-07</td>\n",
       "    </tr>\n",
       "  </tbody>\n",
       "</table>\n",
       "<p>119210 rows × 32 columns</p>\n",
       "</div>"
      ],
      "text/plain": [
       "               hotel  is_canceled  lead_time  arrival_date_year  \\\n",
       "0       Resort Hotel            0        342               2015   \n",
       "1       Resort Hotel            0        737               2015   \n",
       "2       Resort Hotel            0          7               2015   \n",
       "3       Resort Hotel            0         13               2015   \n",
       "4       Resort Hotel            0         14               2015   \n",
       "...              ...          ...        ...                ...   \n",
       "119385    City Hotel            0         23               2017   \n",
       "119386    City Hotel            0        102               2017   \n",
       "119387    City Hotel            0         34               2017   \n",
       "119388    City Hotel            0        109               2017   \n",
       "119389    City Hotel            0        205               2017   \n",
       "\n",
       "       arrival_date_month  arrival_date_week_number  \\\n",
       "0                    July                        27   \n",
       "1                    July                        27   \n",
       "2                    July                        27   \n",
       "3                    July                        27   \n",
       "4                    July                        27   \n",
       "...                   ...                       ...   \n",
       "119385             August                        35   \n",
       "119386             August                        35   \n",
       "119387             August                        35   \n",
       "119388             August                        35   \n",
       "119389             August                        35   \n",
       "\n",
       "        arrival_date_day_of_month  stays_in_weekend_nights  \\\n",
       "0                               1                        0   \n",
       "1                               1                        0   \n",
       "2                               1                        0   \n",
       "3                               1                        0   \n",
       "4                               1                        0   \n",
       "...                           ...                      ...   \n",
       "119385                         30                        2   \n",
       "119386                         31                        2   \n",
       "119387                         31                        2   \n",
       "119388                         31                        2   \n",
       "119389                         29                        2   \n",
       "\n",
       "        stays_in_week_nights  adults  ...  deposit_type  agent company  \\\n",
       "0                          0       2  ...    No Deposit    NaN     NaN   \n",
       "1                          0       2  ...    No Deposit    NaN     NaN   \n",
       "2                          1       1  ...    No Deposit    NaN     NaN   \n",
       "3                          1       1  ...    No Deposit  304.0     NaN   \n",
       "4                          2       2  ...    No Deposit  240.0     NaN   \n",
       "...                      ...     ...  ...           ...    ...     ...   \n",
       "119385                     5       2  ...    No Deposit  394.0     NaN   \n",
       "119386                     5       3  ...    No Deposit    9.0     NaN   \n",
       "119387                     5       2  ...    No Deposit    9.0     NaN   \n",
       "119388                     5       2  ...    No Deposit   89.0     NaN   \n",
       "119389                     7       2  ...    No Deposit    9.0     NaN   \n",
       "\n",
       "       days_in_waiting_list customer_type     adr  \\\n",
       "0                         0     Transient    0.00   \n",
       "1                         0     Transient    0.00   \n",
       "2                         0     Transient   75.00   \n",
       "3                         0     Transient   75.00   \n",
       "4                         0     Transient   98.00   \n",
       "...                     ...           ...     ...   \n",
       "119385                    0     Transient   96.14   \n",
       "119386                    0     Transient  225.43   \n",
       "119387                    0     Transient  157.71   \n",
       "119388                    0     Transient  104.40   \n",
       "119389                    0     Transient  151.20   \n",
       "\n",
       "        required_car_parking_spaces  total_of_special_requests  \\\n",
       "0                                 0                          0   \n",
       "1                                 0                          0   \n",
       "2                                 0                          0   \n",
       "3                                 0                          0   \n",
       "4                                 0                          1   \n",
       "...                             ...                        ...   \n",
       "119385                            0                          0   \n",
       "119386                            0                          2   \n",
       "119387                            0                          4   \n",
       "119388                            0                          0   \n",
       "119389                            0                          2   \n",
       "\n",
       "        reservation_status reservation_status_date  \n",
       "0                Check-Out              2015-07-01  \n",
       "1                Check-Out              2015-07-01  \n",
       "2                Check-Out              2015-07-02  \n",
       "3                Check-Out              2015-07-02  \n",
       "4                Check-Out              2015-07-03  \n",
       "...                    ...                     ...  \n",
       "119385           Check-Out              2017-09-06  \n",
       "119386           Check-Out              2017-09-07  \n",
       "119387           Check-Out              2017-09-07  \n",
       "119388           Check-Out              2017-09-07  \n",
       "119389           Check-Out              2017-09-07  \n",
       "\n",
       "[119210 rows x 32 columns]"
      ]
     },
     "execution_count": 42,
     "metadata": {},
     "output_type": "execute_result"
    }
   ],
   "source": [
    "# Your code here\n",
    "print(df.shape)\n",
    "df_refined=df[(df.adults!= 0) | (df.children !=0) | (df.babies !=0)]\n",
    "df_refined"
   ]
  },
  {
   "cell_type": "markdown",
   "id": "c18ffa53",
   "metadata": {},
   "source": [
    "## Part A - EDA\n",
    "\n",
    "To make ourselves familiar with the data, we will start with an explorative data analysis. In this part, you will be making different visualizations to support your answers.\n",
    "\n",
    "For each sub-question, a separate and single subplot should be shown. You also need to decide the optimal visualization for each case and use that."
   ]
  },
  {
   "cell_type": "markdown",
   "id": "c343987f",
   "metadata": {},
   "source": [
    "### Question 1\n",
    "\n",
    "#### (a)\n",
    "Determine and visualize the top 10 countries and guest counts from which the maximum number of guests are coming from.\n",
    "\n",
    "#### (b)\n",
    "Repeat (a) but show the guest counts for the citydfcities.index and resort hotels separately. They both should be shown in the same plot\n",
    "\n",
    "#### (c)\n",
    "Repeat (b) for the non-cancelled bookings\n",
    "\n",
    "\n",
    "Each part should be done in a separate cell"
   ]
  },
  {
   "cell_type": "code",
   "execution_count": 4,
   "id": "7e472964-b5bf-4f25-bf82-cdbb7c5fbe5d",
   "metadata": {
    "tags": []
   },
   "outputs": [],
   "source": [
    "#preprocessing for question a\n",
    "df_refined['children']=df_refined['children'].fillna(0)\n",
    "df2=df_refined[['children','adults','babies','country','hotel','is_canceled']]\n",
    "df2['no_of_guest']=df2['children']+df2['adults']+df2['babies']\n",
    "df2.dropna(inplace=True)\n",
    "#df2.isnull().sum()"
   ]
  },
  {
   "cell_type": "code",
   "execution_count": 5,
   "id": "87cd2625-9861-4eda-a57b-58e9b36472d2",
   "metadata": {},
   "outputs": [
    {
     "data": {
      "text/plain": [
       "[<matplotlib.lines.Line2D at 0x7f7b526d6400>]"
      ]
     },
     "execution_count": 5,
     "metadata": {},
     "output_type": "execute_result"
    },
    {
     "data": {
      "image/png": "[encoded data removed]",
      "text/plain": [
       "<Figure size 720x432 with 1 Axes>"
      ]
     },
     "metadata": {
      "needs_background": "light"
     },
     "output_type": "display_data"
    }
   ],
   "source": [
    "plt.figure(figsize=(10,6))\n",
    "df3=df2.groupby('country').sum()\n",
    "df4=df3.sort_values(by='no_of_guest',ascending=False)[0:10]\n",
    "plt.bar(df4.index,df4.no_of_guest)\n",
    "plt.plot(df4.index,df4.no_of_guest)"
   ]
  },
  {
   "cell_type": "code",
   "execution_count": 7,
   "id": "6432c24e-7e2e-4c21-9a1c-e0fe28125dc9",
   "metadata": {},
   "outputs": [
    {
     "data": {
      "image/png": "[encoded data removed]",
      "text/plain": [
       "<Figure size 720x432 with 1 Axes>"
      ]
     },
     "metadata": {
      "needs_background": "light"
     },
     "output_type": "display_data"
    }
   ],
   "source": [
    "plt.figure(figsize=(10,6))\n",
    "top10countries = list(df2.groupby('country').sum().sort_values(by='no_of_guest',ascending=False)[0:10].index)\n",
    "city_hotel=[]\n",
    "resort_hotel=[]\n",
    "\n",
    "for country_name in top10countries:\n",
    "    #print(country_name)\n",
    "    hotel_groupd=df2[df2['country']==country_name].groupby('hotel').sum()\n",
    "    #print(hotel_groupd)\n",
    "    #print(hotel_groupd['no_of_guest'].loc['City Hotel'])\n",
    "    city_hotel.append(hotel_groupd['no_of_guest'].loc['City Hotel'])\n",
    "    resort_hotel.append(hotel_groupd['no_of_guest'].loc['Resort Hotel'])\n",
    "    \n",
    "X_axis = np.arange(len(top10countries))\n",
    "  \n",
    "plt.bar(X_axis - 0.2, city_hotel, 0.4, label = 'City Hotel')\n",
    "plt.bar(X_axis + 0.2, resort_hotel, 0.4, label = 'Resorts Hotel')\n",
    "plt.xticks(X_axis, top10countries)\n",
    "plt.xlabel(\"countries\")\n",
    "plt.ylabel(\"Number of Guest\")\n",
    "plt.title(\"Number of Guest in each hotel\")\n",
    "plt.legend()\n",
    "plt.show()"
   ]
  },
  {
   "cell_type": "code",
   "execution_count": 9,
   "id": "a488d438-a5de-4c98-bee0-705071d395fe",
   "metadata": {},
   "outputs": [
    {
     "data": {
      "image/png": "[encoded data removed]",
      "text/plain": [
       "<Figure size 720x432 with 1 Axes>"
      ]
     },
     "metadata": {
      "needs_background": "light"
     },
     "output_type": "display_data"
    }
   ],
   "source": [
    "plt.figure(figsize=(10,6))\n",
    "plt.grid()\n",
    "top10countries = list(df2.groupby('country').sum().sort_values(by='no_of_guest',ascending=False)[0:10].index)\n",
    "city_hotel=[]\n",
    "resort_hotel=[]\n",
    "\n",
    "for country_name in top10countries:\n",
    "    #print(country_name)\n",
    "    hotel_groupd=df2[(df2['country']==country_name) & (df2['is_canceled']==0)].groupby('hotel').sum()\n",
    "    #print(hotel_groupd)\n",
    "    #print(hotel_groupd['no_of_guest'].loc['City Hotel'])\n",
    "    city_hotel.append(hotel_groupd['no_of_guest'].loc['City Hotel'])\n",
    "    resort_hotel.append(hotel_groupd['no_of_guest'].loc['Resort Hotel'])\n",
    "    \n",
    "X_axis = np.arange(len(top10countries))\n",
    "  \n",
    "plt.bar(X_axis - 0.2, city_hotel, 0.4, label = 'City Hotel')\n",
    "plt.bar(X_axis + 0.2, resort_hotel, 0.4, label = 'Resorts Hotel')\n",
    "plt.xticks(X_axis, top10countries)\n",
    "plt.xlabel(\"countries\")\n",
    "plt.ylabel(\"Number of Guest\")\n",
    "plt.title(\"Number of Guest in each hotel\")\n",
    "plt.legend()\n",
    "plt.show()"
   ]
  },
  {
   "cell_type": "markdown",
   "id": "21911536",
   "metadata": {},
   "source": [
    "### Question 2\n",
    "Consider the non-cancelled bookings only.\n",
    "\n",
    "#### (a)\n",
    "Plot the distribution of the average amount (adr), the guests are charged per night for each room type.\n",
    "\n",
    "#### (b)\n",
    "Repeat (a) but separate the results for each hotel. A single plot should be shown\n"
   ]
  },
  {
   "cell_type": "code",
   "execution_count": 16,
   "id": "3a55d016",
   "metadata": {},
   "outputs": [
    {
     "data": {
      "image/png": "[encoded data removed]",
      "text/plain": [
       "<Figure size 720x432 with 1 Axes>"
      ]
     },
     "metadata": {
      "needs_background": "light"
     },
     "output_type": "display_data"
    }
   ],
   "source": [
    "plt.figure(figsize=(10,6))\n",
    "plt.grid()\n",
    "df2=df_refined[['adr','is_canceled','reserved_room_type','assigned_room_type','hotel']][df_refined['is_canceled']==0]\n",
    "df3=df2.groupby('assigned_room_type').mean()\n",
    "plt.scatter(df3.index,df3.adr)\n",
    "plt.xticks(df3.index)\n",
    "plt.show()"
   ]
  },
  {
   "cell_type": "code",
   "execution_count": 31,
   "id": "6f738d51",
   "metadata": {},
   "outputs": [
    {
     "name": "stdout",
     "output_type": "stream",
     "text": [
      "[97.37234466939299, 94.18697253851317, 101.92419580419583, 116.01768741821073, 138.72623001230022, 171.03926866820638, 177.42920774647882, 0, 0, 71.76051136363635]\n",
      "[80.0750090942156, 102.28833333333333, 107.2010387422798, 81.26339798763473, 100.97798574821846, 117.31074098360656, 148.9705162364697, 157.96264642082434, 40.55872881355931, 0]\n"
     ]
    },
    {
     "data": {
      "image/png": "[encoded data removed]",
      "text/plain": [
       "<Figure size 720x432 with 1 Axes>"
      ]
     },
     "metadata": {
      "needs_background": "light"
     },
     "output_type": "display_data"
    }
   ],
   "source": [
    "plt.figure(figsize=(10,6))\n",
    "plt.grid()\n",
    "df2=df_refined[['adr','is_canceled','reserved_room_type','assigned_room_type','hotel']][df_refined['is_canceled']==0]\n",
    "room_types = list(df2.groupby('assigned_room_type').mean().index)\n",
    "city_hotel=[]\n",
    "resort_hotel=[]\n",
    "#print(room_types)\n",
    "for room_type in room_types:\n",
    "    hotel_groupd=df2[df2['assigned_room_type']==room_type].groupby('hotel').mean()\n",
    "    #print(hotel_groupd)\n",
    "    try:\n",
    "        city_hotel.append(hotel_groupd['adr'].loc['City Hotel'])\n",
    "    except:\n",
    "        city_hotel.append(0)\n",
    "    try:\n",
    "        resort_hotel.append(hotel_groupd['adr'].loc['Resort Hotel'])\n",
    "    except:\n",
    "        resort_hotel.append(0)\n",
    "print(city_hotel)\n",
    "print(resort_hotel)\n",
    "X_axis = np.arange(len(room_types))\n",
    "  \n",
    "plt.bar(X_axis - 0.2, city_hotel, 0.4, label = 'City Hotel')\n",
    "plt.bar(X_axis + 0.2, resort_hotel, 0.4, label = 'Resorts Hotel')\n",
    "plt.xticks(X_axis, room_types)\n",
    "plt.xlabel(\"Room Type\")\n",
    "plt.ylabel(\"adr\")\n",
    "#plt.title(\"Number of Guest in each hotel\")\n",
    "plt.legend()\n",
    "plt.show()"
   ]
  },
  {
   "cell_type": "markdown",
   "id": "6db1d565",
   "metadata": {},
   "source": [
    "### Question 3\n",
    "Consider the non-cancelled bookings only.\n",
    "\n",
    "#### (a)\n",
    "Plot the mean values for `adr` by month. Show the values separately for each hotel. Also, ensure that the axis elements are appropriately ordered.\n",
    "\n",
    "#### (b)\n",
    "Plot the mean values for `adr` by day of the week. Show the values separately for each hotel. Also, ensure that the axis elements are appropriately ordered.\n",
    "\n"
   ]
  },
  {
   "cell_type": "code",
   "execution_count": 108,
   "id": "dc78848a",
   "metadata": {},
   "outputs": [],
   "source": [
    "# Your code here (a)\n",
    "df2=df_refined[['adr','arrival_date_month','hotel','arrival_date_year','arrival_date_week_number','arrival_date_day_of_month','children','adults','babies']][df_refined['is_canceled']==0]\n",
    "df2['no_of_guest']=df2['children']+df2['adults']+df2['babies']"
   ]
  },
  {
   "cell_type": "code",
   "execution_count": 40,
   "id": "75d9840c",
   "metadata": {},
   "outputs": [
    {
     "data": {
      "text/plain": [
       "<matplotlib.legend.Legend at 0x7f7b4de4fa20>"
      ]
     },
     "execution_count": 40,
     "metadata": {},
     "output_type": "execute_result"
    },
    {
     "data": {
      "image/png": "[encoded data removed]",
      "text/plain": [
       "<Figure size 720x504 with 1 Axes>"
      ]
     },
     "metadata": {
      "needs_background": "light"
     },
     "output_type": "display_data"
    }
   ],
   "source": [
    "plt.figure(figsize=(10,7))\n",
    "plt.grid()\n",
    "months =  ['January', 'February', 'March', 'April', 'May', 'June', 'July', 'August', 'September', 'October', 'November', 'December']\n",
    "city_hotel=[]\n",
    "resort_hotel=[]\n",
    "#print(room_types)\n",
    "for month in months:\n",
    "    hotel_groupd=df2[df2['arrival_date_month']==month].groupby('hotel').mean()\n",
    "    #print(hotel_groupd)\n",
    "    try:\n",
    "        city_hotel.append(hotel_groupd['adr'].loc['City Hotel'])\n",
    "    except:\n",
    "        city_hotel.append(0)\n",
    "    try:\n",
    "        resort_hotel.append(hotel_groupd['adr'].loc['Resort Hotel'])\n",
    "    except:\n",
    "        resort_hotel.append(0)\n",
    "        \n",
    "plt.plot(months,city_hotel, '-.o',label='City Hotel')\n",
    "plt.plot(months,resort_hotel, '-o',label='Resort Hotel')\n",
    "plt.xlabel(\"arrival_date_day_of_month\")\n",
    "plt.ylabel(\"Value\")\n",
    "plt.xticks(months,rotation=45)\n",
    "#plt.title('Plot the mean values for adr by day of the week. Show the values separately for each hotel. Also, ensure that the axis elements are appropriately ordered.')\n",
    "plt.legend()"
   ]
  },
  {
   "cell_type": "code",
   "execution_count": 60,
   "id": "189fa13d-25a1-4160-b2da-1e45de5e8452",
   "metadata": {},
   "outputs": [],
   "source": [
    "import datetime"
   ]
  },
  {
   "cell_type": "code",
   "execution_count": 127,
   "id": "540d22a9-f8ec-4b96-a260-19c2657aa0c6",
   "metadata": {},
   "outputs": [
    {
     "data": {
      "text/html": [
       "<div>\n",
       "<style scoped>\n",
       "    .dataframe tbody tr th:only-of-type {\n",
       "        vertical-align: middle;\n",
       "    }\n",
       "\n",
       "    .dataframe tbody tr th {\n",
       "        vertical-align: top;\n",
       "    }\n",
       "\n",
       "    .dataframe thead th {\n",
       "        text-align: right;\n",
       "    }\n",
       "</style>\n",
       "<table border=\"1\" class=\"dataframe\">\n",
       "  <thead>\n",
       "    <tr style=\"text-align: right;\">\n",
       "      <th></th>\n",
       "      <th>adr</th>\n",
       "      <th>arrival_date_month</th>\n",
       "      <th>hotel</th>\n",
       "      <th>arrival_date_year</th>\n",
       "      <th>arrival_date_week_number</th>\n",
       "      <th>arrival_date_day_of_month</th>\n",
       "      <th>children</th>\n",
       "      <th>adults</th>\n",
       "      <th>babies</th>\n",
       "      <th>no_of_guest</th>\n",
       "      <th>date</th>\n",
       "      <th>date name</th>\n",
       "    </tr>\n",
       "  </thead>\n",
       "  <tbody>\n",
       "    <tr>\n",
       "      <th>0</th>\n",
       "      <td>0.00</td>\n",
       "      <td>7</td>\n",
       "      <td>Resort Hotel</td>\n",
       "      <td>2015</td>\n",
       "      <td>27</td>\n",
       "      <td>1</td>\n",
       "      <td>0.0</td>\n",
       "      <td>2</td>\n",
       "      <td>0</td>\n",
       "      <td>2.0</td>\n",
       "      <td>2015-07-01</td>\n",
       "      <td>2</td>\n",
       "    </tr>\n",
       "    <tr>\n",
       "      <th>1</th>\n",
       "      <td>0.00</td>\n",
       "      <td>7</td>\n",
       "      <td>Resort Hotel</td>\n",
       "      <td>2015</td>\n",
       "      <td>27</td>\n",
       "      <td>1</td>\n",
       "      <td>0.0</td>\n",
       "      <td>2</td>\n",
       "      <td>0</td>\n",
       "      <td>2.0</td>\n",
       "      <td>2015-07-01</td>\n",
       "      <td>2</td>\n",
       "    </tr>\n",
       "    <tr>\n",
       "      <th>2</th>\n",
       "      <td>75.00</td>\n",
       "      <td>7</td>\n",
       "      <td>Resort Hotel</td>\n",
       "      <td>2015</td>\n",
       "      <td>27</td>\n",
       "      <td>1</td>\n",
       "      <td>0.0</td>\n",
       "      <td>1</td>\n",
       "      <td>0</td>\n",
       "      <td>1.0</td>\n",
       "      <td>2015-07-01</td>\n",
       "      <td>2</td>\n",
       "    </tr>\n",
       "    <tr>\n",
       "      <th>3</th>\n",
       "      <td>75.00</td>\n",
       "      <td>7</td>\n",
       "      <td>Resort Hotel</td>\n",
       "      <td>2015</td>\n",
       "      <td>27</td>\n",
       "      <td>1</td>\n",
       "      <td>0.0</td>\n",
       "      <td>1</td>\n",
       "      <td>0</td>\n",
       "      <td>1.0</td>\n",
       "      <td>2015-07-01</td>\n",
       "      <td>2</td>\n",
       "    </tr>\n",
       "    <tr>\n",
       "      <th>4</th>\n",
       "      <td>98.00</td>\n",
       "      <td>7</td>\n",
       "      <td>Resort Hotel</td>\n",
       "      <td>2015</td>\n",
       "      <td>27</td>\n",
       "      <td>1</td>\n",
       "      <td>0.0</td>\n",
       "      <td>2</td>\n",
       "      <td>0</td>\n",
       "      <td>2.0</td>\n",
       "      <td>2015-07-01</td>\n",
       "      <td>2</td>\n",
       "    </tr>\n",
       "    <tr>\n",
       "      <th>...</th>\n",
       "      <td>...</td>\n",
       "      <td>...</td>\n",
       "      <td>...</td>\n",
       "      <td>...</td>\n",
       "      <td>...</td>\n",
       "      <td>...</td>\n",
       "      <td>...</td>\n",
       "      <td>...</td>\n",
       "      <td>...</td>\n",
       "      <td>...</td>\n",
       "      <td>...</td>\n",
       "      <td>...</td>\n",
       "    </tr>\n",
       "    <tr>\n",
       "      <th>119385</th>\n",
       "      <td>96.14</td>\n",
       "      <td>8</td>\n",
       "      <td>City Hotel</td>\n",
       "      <td>2017</td>\n",
       "      <td>35</td>\n",
       "      <td>30</td>\n",
       "      <td>0.0</td>\n",
       "      <td>2</td>\n",
       "      <td>0</td>\n",
       "      <td>2.0</td>\n",
       "      <td>2017-08-30</td>\n",
       "      <td>2</td>\n",
       "    </tr>\n",
       "    <tr>\n",
       "      <th>119386</th>\n",
       "      <td>225.43</td>\n",
       "      <td>8</td>\n",
       "      <td>City Hotel</td>\n",
       "      <td>2017</td>\n",
       "      <td>35</td>\n",
       "      <td>31</td>\n",
       "      <td>0.0</td>\n",
       "      <td>3</td>\n",
       "      <td>0</td>\n",
       "      <td>3.0</td>\n",
       "      <td>2017-08-31</td>\n",
       "      <td>3</td>\n",
       "    </tr>\n",
       "    <tr>\n",
       "      <th>119387</th>\n",
       "      <td>157.71</td>\n",
       "      <td>8</td>\n",
       "      <td>City Hotel</td>\n",
       "      <td>2017</td>\n",
       "      <td>35</td>\n",
       "      <td>31</td>\n",
       "      <td>0.0</td>\n",
       "      <td>2</td>\n",
       "      <td>0</td>\n",
       "      <td>2.0</td>\n",
       "      <td>2017-08-31</td>\n",
       "      <td>3</td>\n",
       "    </tr>\n",
       "    <tr>\n",
       "      <th>119388</th>\n",
       "      <td>104.40</td>\n",
       "      <td>8</td>\n",
       "      <td>City Hotel</td>\n",
       "      <td>2017</td>\n",
       "      <td>35</td>\n",
       "      <td>31</td>\n",
       "      <td>0.0</td>\n",
       "      <td>2</td>\n",
       "      <td>0</td>\n",
       "      <td>2.0</td>\n",
       "      <td>2017-08-31</td>\n",
       "      <td>3</td>\n",
       "    </tr>\n",
       "    <tr>\n",
       "      <th>119389</th>\n",
       "      <td>151.20</td>\n",
       "      <td>8</td>\n",
       "      <td>City Hotel</td>\n",
       "      <td>2017</td>\n",
       "      <td>35</td>\n",
       "      <td>29</td>\n",
       "      <td>0.0</td>\n",
       "      <td>2</td>\n",
       "      <td>0</td>\n",
       "      <td>2.0</td>\n",
       "      <td>2017-08-29</td>\n",
       "      <td>1</td>\n",
       "    </tr>\n",
       "  </tbody>\n",
       "</table>\n",
       "<p>75011 rows × 12 columns</p>\n",
       "</div>"
      ],
      "text/plain": [
       "           adr arrival_date_month         hotel arrival_date_year  \\\n",
       "0         0.00                  7  Resort Hotel              2015   \n",
       "1         0.00                  7  Resort Hotel              2015   \n",
       "2        75.00                  7  Resort Hotel              2015   \n",
       "3        75.00                  7  Resort Hotel              2015   \n",
       "4        98.00                  7  Resort Hotel              2015   \n",
       "...        ...                ...           ...               ...   \n",
       "119385   96.14                  8    City Hotel              2017   \n",
       "119386  225.43                  8    City Hotel              2017   \n",
       "119387  157.71                  8    City Hotel              2017   \n",
       "119388  104.40                  8    City Hotel              2017   \n",
       "119389  151.20                  8    City Hotel              2017   \n",
       "\n",
       "        arrival_date_week_number arrival_date_day_of_month  children  adults  \\\n",
       "0                             27                         1       0.0       2   \n",
       "1                             27                         1       0.0       2   \n",
       "2                             27                         1       0.0       1   \n",
       "3                             27                         1       0.0       1   \n",
       "4                             27                         1       0.0       2   \n",
       "...                          ...                       ...       ...     ...   \n",
       "119385                        35                        30       0.0       2   \n",
       "119386                        35                        31       0.0       3   \n",
       "119387                        35                        31       0.0       2   \n",
       "119388                        35                        31       0.0       2   \n",
       "119389                        35                        29       0.0       2   \n",
       "\n",
       "        babies  no_of_guest       date  date name  \n",
       "0            0          2.0 2015-07-01          2  \n",
       "1            0          2.0 2015-07-01          2  \n",
       "2            0          1.0 2015-07-01          2  \n",
       "3            0          1.0 2015-07-01          2  \n",
       "4            0          2.0 2015-07-01          2  \n",
       "...        ...          ...        ...        ...  \n",
       "119385       0          2.0 2017-08-30          2  \n",
       "119386       0          3.0 2017-08-31          3  \n",
       "119387       0          2.0 2017-08-31          3  \n",
       "119388       0          2.0 2017-08-31          3  \n",
       "119389       0          2.0 2017-08-29          1  \n",
       "\n",
       "[75011 rows x 12 columns]"
      ]
     },
     "execution_count": 127,
     "metadata": {},
     "output_type": "execute_result"
    }
   ],
   "source": [
    "df2"
   ]
  },
  {
   "cell_type": "code",
   "execution_count": 114,
   "id": "67382f70-06ff-4b92-92d5-f0a337ce1c6b",
   "metadata": {},
   "outputs": [],
   "source": [
    "def conversion(x):\n",
    "    datetime_object = datetime.datetime.strptime(x, \"%B\")\n",
    "    return datetime_object.month\n",
    "\n",
    "df2['arrival_date_month'] = df2['arrival_date_month'].apply(conversion)\n",
    "\n",
    "df2['arrival_date_month']=df2['arrival_date_month'].apply(lambda x: str(x))\n",
    "df2['arrival_date_day_of_month']=df2['arrival_date_day_of_month'].apply(lambda x: str(x))\n",
    "df2['arrival_date_year']=df2['arrival_date_year'].apply(lambda x: str(x))\n",
    "\n",
    "df2['date']=df2['arrival_date_month']+'/'+df2['arrival_date_day_of_month']+'/'+df2['arrival_date_year']\n",
    "df2['date']=pd.to_datetime(df2['date'])\n",
    "\n",
    "df2['date name']=df2['date'].dt.weekday"
   ]
  },
  {
   "cell_type": "code",
   "execution_count": 128,
   "id": "d9c9bbcd",
   "metadata": {},
   "outputs": [
    {
     "name": "stdout",
     "output_type": "stream",
     "text": [
      "dict_keys([0, 1, 2, 3, 4, 5, 6])\n"
     ]
    },
    {
     "data": {
      "text/plain": [
       "<matplotlib.legend.Legend at 0x7f7b4c279ba8>"
      ]
     },
     "execution_count": 128,
     "metadata": {},
     "output_type": "execute_result"
    },
    {
     "data": {
      "image/png": "[encoded data removed]",
      "text/plain": [
       "<Figure size 720x504 with 1 Axes>"
      ]
     },
     "metadata": {
      "needs_background": "light"
     },
     "output_type": "display_data"
    }
   ],
   "source": [
    "plt.figure(figsize=(10,7))\n",
    "plt.grid()\n",
    "days =  {0:'Monday', 1:'Tuesday', 2:'Wednesday', 3:'Thursday', 4:'Friday', 5:'Saturday', 6:'Sunday'}\n",
    "city_hotel=[]\n",
    "resort_hotel=[]\n",
    "#print(room_types)\n",
    "print(days.keys())\n",
    "for day in days.keys():\n",
    "    hotel_groupd=df2[df2['date name']==day].groupby('hotel').mean()\n",
    "    #print(hotel_groupd)\n",
    "    try:\n",
    "        city_hotel.append(hotel_groupd['adr'].loc['City Hotel'])\n",
    "    except:\n",
    "        city_hotel.append(0)\n",
    "    try:\n",
    "        resort_hotel.append(hotel_groupd['adr'].loc['Resort Hotel'])\n",
    "    except:\n",
    "        resort_hotel.append(0)\n",
    "        \n",
    "plt.plot(days.values(),city_hotel, '-.o',label='City Hotel')\n",
    "plt.plot(days.values(),resort_hotel, '-o',label='Resort Hotel')\n",
    "plt.xlabel(\"arrival_date_day_of_month\")\n",
    "plt.ylabel(\"Value\")\n",
    "plt.xticks(list(days.values()),rotation=45)\n",
    "#plt.title('Plot the mean values for adr by day of the week. Show the values separately for each hotel. Also, ensure that the axis elements are appropriately ordered.')\n",
    "plt.legend()"
   ]
  },
  {
   "cell_type": "markdown",
   "id": "4fe98db3",
   "metadata": {},
   "source": [
    "### Question 4\n",
    "\n",
    "Consider the non-cancelled bookings only.\n",
    "\n",
    "#### (a)\n",
    "\n",
    "Plot the guest counts by month. Show the values separately for each hotel. Also, ensure that the axis elements are appropriately ordered.\n",
    "\n",
    "#### (b)\n",
    "Plot the guest counts by day of the week. Show the values separately for each hotel. Also, ensure that the axis elements are appropriately ordered."
   ]
  },
  {
   "cell_type": "code",
   "execution_count": 138,
   "id": "c2f74fe4",
   "metadata": {},
   "outputs": [
    {
     "data": {
      "text/html": [
       "<div>\n",
       "<style scoped>\n",
       "    .dataframe tbody tr th:only-of-type {\n",
       "        vertical-align: middle;\n",
       "    }\n",
       "\n",
       "    .dataframe tbody tr th {\n",
       "        vertical-align: top;\n",
       "    }\n",
       "\n",
       "    .dataframe thead th {\n",
       "        text-align: right;\n",
       "    }\n",
       "</style>\n",
       "<table border=\"1\" class=\"dataframe\">\n",
       "  <thead>\n",
       "    <tr style=\"text-align: right;\">\n",
       "      <th></th>\n",
       "      <th>adr</th>\n",
       "      <th>arrival_date_month</th>\n",
       "      <th>hotel</th>\n",
       "      <th>arrival_date_year</th>\n",
       "      <th>arrival_date_week_number</th>\n",
       "      <th>arrival_date_day_of_month</th>\n",
       "      <th>children</th>\n",
       "      <th>adults</th>\n",
       "      <th>babies</th>\n",
       "      <th>no_of_guest</th>\n",
       "      <th>date</th>\n",
       "      <th>date name</th>\n",
       "    </tr>\n",
       "  </thead>\n",
       "  <tbody>\n",
       "    <tr>\n",
       "      <th>0</th>\n",
       "      <td>0.00</td>\n",
       "      <td>7</td>\n",
       "      <td>Resort Hotel</td>\n",
       "      <td>2015</td>\n",
       "      <td>27</td>\n",
       "      <td>1</td>\n",
       "      <td>0.0</td>\n",
       "      <td>2</td>\n",
       "      <td>0</td>\n",
       "      <td>2.0</td>\n",
       "      <td>2015-07-01</td>\n",
       "      <td>2</td>\n",
       "    </tr>\n",
       "    <tr>\n",
       "      <th>1</th>\n",
       "      <td>0.00</td>\n",
       "      <td>7</td>\n",
       "      <td>Resort Hotel</td>\n",
       "      <td>2015</td>\n",
       "      <td>27</td>\n",
       "      <td>1</td>\n",
       "      <td>0.0</td>\n",
       "      <td>2</td>\n",
       "      <td>0</td>\n",
       "      <td>2.0</td>\n",
       "      <td>2015-07-01</td>\n",
       "      <td>2</td>\n",
       "    </tr>\n",
       "    <tr>\n",
       "      <th>2</th>\n",
       "      <td>75.00</td>\n",
       "      <td>7</td>\n",
       "      <td>Resort Hotel</td>\n",
       "      <td>2015</td>\n",
       "      <td>27</td>\n",
       "      <td>1</td>\n",
       "      <td>0.0</td>\n",
       "      <td>1</td>\n",
       "      <td>0</td>\n",
       "      <td>1.0</td>\n",
       "      <td>2015-07-01</td>\n",
       "      <td>2</td>\n",
       "    </tr>\n",
       "    <tr>\n",
       "      <th>3</th>\n",
       "      <td>75.00</td>\n",
       "      <td>7</td>\n",
       "      <td>Resort Hotel</td>\n",
       "      <td>2015</td>\n",
       "      <td>27</td>\n",
       "      <td>1</td>\n",
       "      <td>0.0</td>\n",
       "      <td>1</td>\n",
       "      <td>0</td>\n",
       "      <td>1.0</td>\n",
       "      <td>2015-07-01</td>\n",
       "      <td>2</td>\n",
       "    </tr>\n",
       "    <tr>\n",
       "      <th>4</th>\n",
       "      <td>98.00</td>\n",
       "      <td>7</td>\n",
       "      <td>Resort Hotel</td>\n",
       "      <td>2015</td>\n",
       "      <td>27</td>\n",
       "      <td>1</td>\n",
       "      <td>0.0</td>\n",
       "      <td>2</td>\n",
       "      <td>0</td>\n",
       "      <td>2.0</td>\n",
       "      <td>2015-07-01</td>\n",
       "      <td>2</td>\n",
       "    </tr>\n",
       "    <tr>\n",
       "      <th>...</th>\n",
       "      <td>...</td>\n",
       "      <td>...</td>\n",
       "      <td>...</td>\n",
       "      <td>...</td>\n",
       "      <td>...</td>\n",
       "      <td>...</td>\n",
       "      <td>...</td>\n",
       "      <td>...</td>\n",
       "      <td>...</td>\n",
       "      <td>...</td>\n",
       "      <td>...</td>\n",
       "      <td>...</td>\n",
       "    </tr>\n",
       "    <tr>\n",
       "      <th>119385</th>\n",
       "      <td>96.14</td>\n",
       "      <td>8</td>\n",
       "      <td>City Hotel</td>\n",
       "      <td>2017</td>\n",
       "      <td>35</td>\n",
       "      <td>30</td>\n",
       "      <td>0.0</td>\n",
       "      <td>2</td>\n",
       "      <td>0</td>\n",
       "      <td>2.0</td>\n",
       "      <td>2017-08-30</td>\n",
       "      <td>2</td>\n",
       "    </tr>\n",
       "    <tr>\n",
       "      <th>119386</th>\n",
       "      <td>225.43</td>\n",
       "      <td>8</td>\n",
       "      <td>City Hotel</td>\n",
       "      <td>2017</td>\n",
       "      <td>35</td>\n",
       "      <td>31</td>\n",
       "      <td>0.0</td>\n",
       "      <td>3</td>\n",
       "      <td>0</td>\n",
       "      <td>3.0</td>\n",
       "      <td>2017-08-31</td>\n",
       "      <td>3</td>\n",
       "    </tr>\n",
       "    <tr>\n",
       "      <th>119387</th>\n",
       "      <td>157.71</td>\n",
       "      <td>8</td>\n",
       "      <td>City Hotel</td>\n",
       "      <td>2017</td>\n",
       "      <td>35</td>\n",
       "      <td>31</td>\n",
       "      <td>0.0</td>\n",
       "      <td>2</td>\n",
       "      <td>0</td>\n",
       "      <td>2.0</td>\n",
       "      <td>2017-08-31</td>\n",
       "      <td>3</td>\n",
       "    </tr>\n",
       "    <tr>\n",
       "      <th>119388</th>\n",
       "      <td>104.40</td>\n",
       "      <td>8</td>\n",
       "      <td>City Hotel</td>\n",
       "      <td>2017</td>\n",
       "      <td>35</td>\n",
       "      <td>31</td>\n",
       "      <td>0.0</td>\n",
       "      <td>2</td>\n",
       "      <td>0</td>\n",
       "      <td>2.0</td>\n",
       "      <td>2017-08-31</td>\n",
       "      <td>3</td>\n",
       "    </tr>\n",
       "    <tr>\n",
       "      <th>119389</th>\n",
       "      <td>151.20</td>\n",
       "      <td>8</td>\n",
       "      <td>City Hotel</td>\n",
       "      <td>2017</td>\n",
       "      <td>35</td>\n",
       "      <td>29</td>\n",
       "      <td>0.0</td>\n",
       "      <td>2</td>\n",
       "      <td>0</td>\n",
       "      <td>2.0</td>\n",
       "      <td>2017-08-29</td>\n",
       "      <td>1</td>\n",
       "    </tr>\n",
       "  </tbody>\n",
       "</table>\n",
       "<p>75011 rows × 12 columns</p>\n",
       "</div>"
      ],
      "text/plain": [
       "           adr arrival_date_month         hotel arrival_date_year  \\\n",
       "0         0.00                  7  Resort Hotel              2015   \n",
       "1         0.00                  7  Resort Hotel              2015   \n",
       "2        75.00                  7  Resort Hotel              2015   \n",
       "3        75.00                  7  Resort Hotel              2015   \n",
       "4        98.00                  7  Resort Hotel              2015   \n",
       "...        ...                ...           ...               ...   \n",
       "119385   96.14                  8    City Hotel              2017   \n",
       "119386  225.43                  8    City Hotel              2017   \n",
       "119387  157.71                  8    City Hotel              2017   \n",
       "119388  104.40                  8    City Hotel              2017   \n",
       "119389  151.20                  8    City Hotel              2017   \n",
       "\n",
       "        arrival_date_week_number arrival_date_day_of_month  children  adults  \\\n",
       "0                             27                         1       0.0       2   \n",
       "1                             27                         1       0.0       2   \n",
       "2                             27                         1       0.0       1   \n",
       "3                             27                         1       0.0       1   \n",
       "4                             27                         1       0.0       2   \n",
       "...                          ...                       ...       ...     ...   \n",
       "119385                        35                        30       0.0       2   \n",
       "119386                        35                        31       0.0       3   \n",
       "119387                        35                        31       0.0       2   \n",
       "119388                        35                        31       0.0       2   \n",
       "119389                        35                        29       0.0       2   \n",
       "\n",
       "        babies  no_of_guest       date  date name  \n",
       "0            0          2.0 2015-07-01          2  \n",
       "1            0          2.0 2015-07-01          2  \n",
       "2            0          1.0 2015-07-01          2  \n",
       "3            0          1.0 2015-07-01          2  \n",
       "4            0          2.0 2015-07-01          2  \n",
       "...        ...          ...        ...        ...  \n",
       "119385       0          2.0 2017-08-30          2  \n",
       "119386       0          3.0 2017-08-31          3  \n",
       "119387       0          2.0 2017-08-31          3  \n",
       "119388       0          2.0 2017-08-31          3  \n",
       "119389       0          2.0 2017-08-29          1  \n",
       "\n",
       "[75011 rows x 12 columns]"
      ]
     },
     "execution_count": 138,
     "metadata": {},
     "output_type": "execute_result"
    }
   ],
   "source": [
    "# Your code here (a)\n",
    "df2"
   ]
  },
  {
   "cell_type": "code",
   "execution_count": 140,
   "id": "c9434961-c5d0-43d8-ae83-59a11c8cae72",
   "metadata": {},
   "outputs": [
    {
     "data": {
      "text/plain": [
       "<matplotlib.legend.Legend at 0x7f7b4775ce10>"
      ]
     },
     "execution_count": 140,
     "metadata": {},
     "output_type": "execute_result"
    },
    {
     "data": {
      "image/png": "[encoded data removed]",
      "text/plain": [
       "<Figure size 720x504 with 1 Axes>"
      ]
     },
     "metadata": {
      "needs_background": "light"
     },
     "output_type": "display_data"
    }
   ],
   "source": [
    "plt.figure(figsize=(10,7))\n",
    "plt.grid()\n",
    "months =  ['January', 'February', 'March', 'April', 'May', 'June', 'July', 'August', 'September', 'October', 'November', 'December']\n",
    "city_hotel=[]\n",
    "resort_hotel=[]\n",
    "#print(room_types)\n",
    "for i,month in enumerate(months):\n",
    "    hotel_groupd=df2[df2['arrival_date_month']==str(i+1)].groupby('hotel').sum()\n",
    "\n",
    "    try:\n",
    "        city_hotel.append(hotel_groupd['no_of_guest'].loc['City Hotel'])\n",
    "    except:\n",
    "        city_hotel.append(0)\n",
    "    try:\n",
    "        resort_hotel.append(hotel_groupd['no_of_guest'].loc['Resort Hotel'])\n",
    "    except:\n",
    "        resort_hotel.append(0)\n",
    "        \n",
    "plt.plot(months,city_hotel, '-.o',label='City Hotel')\n",
    "plt.plot(months,resort_hotel, '-o',label='Resort Hotel')\n",
    "plt.xlabel(\"arrival_date_day_of_month\")\n",
    "plt.ylabel(\"Value\")\n",
    "plt.xticks(months,rotation=45)\n",
    "#plt.title('Plot the mean values for adr by day of the week. Show the values separately for each hotel. Also, ensure that the axis elements are appropriately ordered.')\n",
    "plt.legend()"
   ]
  },
  {
   "cell_type": "code",
   "execution_count": 142,
   "id": "787c03de",
   "metadata": {},
   "outputs": [
    {
     "data": {
      "text/plain": [
       "<matplotlib.legend.Legend at 0x7f7b4dd9e048>"
      ]
     },
     "execution_count": 142,
     "metadata": {},
     "output_type": "execute_result"
    },
    {
     "data": {
      "image/png": "[encoded data removed]",
      "text/plain": [
       "<Figure size 720x504 with 1 Axes>"
      ]
     },
     "metadata": {
      "needs_background": "light"
     },
     "output_type": "display_data"
    }
   ],
   "source": [
    "# Your code here (b)\n",
    "plt.figure(figsize=(10,7))\n",
    "plt.grid()\n",
    "days =  {0:'Monday', 1:'Tuesday', 2:'Wednesday', 3:'Thursday', 4:'Friday', 5:'Saturday', 6:'Sunday'}\n",
    "city_hotel=[]\n",
    "resort_hotel=[]\n",
    "for day in days.keys():\n",
    "    hotel_groupd=df2[df2['date name']==day].groupby('hotel').sum()\n",
    "    #print(hotel_groupd)\n",
    "    try:\n",
    "        city_hotel.append(hotel_groupd['no_of_guest'].loc['City Hotel'])\n",
    "    except:\n",
    "        city_hotel.append(0)\n",
    "    try:\n",
    "        resort_hotel.append(hotel_groupd['no_of_guest'].loc['Resort Hotel'])\n",
    "    except:\n",
    "        resort_hotel.append(0)\n",
    "        \n",
    "plt.plot(days.values(),city_hotel, '-.o',label='City Hotel')\n",
    "plt.plot(days.values(),resort_hotel, '-o',label='Resort Hotel')\n",
    "plt.xlabel(\"arrival_date_day_of_month\")\n",
    "plt.ylabel(\"Value\")\n",
    "plt.xticks(list(days.values()),rotation=45)\n",
    "#plt.title('Plot the mean values for adr by day of the week. Show the values separately for each hotel. Also, ensure that the axis elements are appropriately ordered.')\n",
    "plt.legend()"
   ]
  },
  {
   "cell_type": "markdown",
   "id": "37d84535",
   "metadata": {},
   "source": [
    "### Question 5\n",
    "\n",
    "Consider the non-cancelled bookings only.\n",
    "\n",
    "#### (a)\n",
    "Plot the distribution of stay duration (in number of days) of guests at each hotel."
   ]
  },
  {
   "cell_type": "code",
   "execution_count": 171,
   "id": "66f1b50e",
   "metadata": {},
   "outputs": [
    {
     "data": {
      "image/png": "[encoded data removed]",
      "text/plain": [
       "<Figure size 432x288 with 1 Axes>"
      ]
     },
     "metadata": {
      "needs_background": "light"
     },
     "output_type": "display_data"
    }
   ],
   "source": [
    "# Your code here (a)\n",
    "df2=df_refined[['adr','arrival_date_month','hotel','arrival_date_year','arrival_date_week_number','arrival_date_day_of_month','children','adults','babies','reservation_status_date']][df_refined['is_canceled']==0]\n",
    "df2['no_of_guest']=df2['children']+df2['adults']+df2['babies']\n",
    "\n",
    "def conversion(x):\n",
    "    datetime_object = datetime.datetime.strptime(x, \"%B\")\n",
    "    return datetime_object.month\n",
    "\n",
    "df2['arrival_date_month'] = df2['arrival_date_month'].apply(conversion)\n",
    "\n",
    "df2['arrival_date_month']=df2['arrival_date_month'].apply(lambda x: str(x))\n",
    "df2['arrival_date_day_of_month']=df2['arrival_date_day_of_month'].apply(lambda x: str(x))\n",
    "df2['arrival_date_year']=df2['arrival_date_year'].apply(lambda x: str(x))\n",
    "\n",
    "df2['checkin']=df2['arrival_date_month']+'/'+df2['arrival_date_day_of_month']+'/'+df2['arrival_date_year']\n",
    "df2['checkin']=pd.to_datetime(df2['checkin'])\n",
    "df2['reservation_status_date']=pd.to_datetime(df2['reservation_status_date'])\n",
    "\n",
    "df2['stays_no_of_days']=(df2['reservation_status_date']-df2['checkin']).dt.days\n",
    "\n",
    "df2['date name']=df2['checkin'].dt.weekday \n",
    "plt.hist(df2['stays_no_of_days'][df2['hotel']=='City Hotel'],bins=40,ec=\"red\",range=[0,35])\n",
    "plt.show()"
   ]
  },
  {
   "cell_type": "markdown",
   "id": "ea761cd5",
   "metadata": {},
   "source": [
    "### Question 6\n",
    "\n",
    "#### (a), (b) & (c)\n",
    "Make three visualizations, showing some interesting insights from the data. \n",
    "\n",
    "The visualizations should be accompanied by a brief textual description highlighting your finding."
   ]
  },
  {
   "cell_type": "code",
   "execution_count": 244,
   "id": "2f9a8a8d",
   "metadata": {},
   "outputs": [
    {
     "name": "stdout",
     "output_type": "stream",
     "text": [
      "['BB', 'HB', 'SC']\n"
     ]
    },
    {
     "data": {
      "image/png": "[encoded data removed]",
      "text/plain": [
       "<Figure size 2160x720 with 1 Axes>"
      ]
     },
     "metadata": {
      "needs_background": "light"
     },
     "output_type": "display_data"
    }
   ],
   "source": [
    "# Your code here (a)\n",
    "#show meal orderd by customer belongs to specific countries\n",
    "plt.figure(figsize=(30,10))\n",
    "df2=df_refined[['meal','hotel','country']][(df_refined['is_canceled']==0) & (df_refined['meal']!='Undefined')]\n",
    "countries=[]\n",
    "meal=[]\n",
    "count=[]\n",
    "#df2.groupby('country').count().sort_values(by='hotel',ascending=False)\n",
    "for key,df in df2.groupby('country'):\n",
    "    #if key=='AUT':\n",
    "    df3=df.groupby('meal').count().sort_values(by='country',ascending=False)[:1]['country']\n",
    "    countries.append(key)\n",
    "    meal.append(df3.keys()[0])\n",
    "    count.append(df3.values[0])\n",
    "# print(countries)\n",
    "# print(meal)\n",
    "# print(count)\n",
    "color=list(set(meal))\n",
    "print(color)\n",
    "for c,m,c2 in zip(countries,meal,count):\n",
    "    if m==color[0]:\n",
    "        plt.bar(c,c2,0.4,color='yellow',label=m)\n",
    "    elif m==color[1]:\n",
    "        plt.bar(c,c2,0.4,color='blue',label=m)\n",
    "    else:\n",
    "        plt.bar(c,c2,0.4,color='red',label=m)\n",
    "#     print(c,\":\",m,\":\",c2)\n",
    "# plt.bar(countries, count, 0.4, label = 'City Hotel',)\n",
    "# #plt.bar(X_axis + 0.2, resort_hotel, 0.4, label = 'Resorts Hotel')\n",
    "# plt.xticks(countries, rotation=90)\n",
    "plt.xlabel(\"Room Type\")\n",
    "plt.ylabel(\"adr\")\n",
    "plt.yscale('log')\n",
    "# #plt.title(\"Number of Guest in each hotel\")\n",
    "handles, labels = plt.gca().get_legend_handles_labels()\n",
    "by_label = dict(zip(labels, handles))\n",
    "plt.legend(by_label.values(), by_label.keys())\n",
    "plt.show()"
   ]
  },
  {
   "cell_type": "code",
   "execution_count": 216,
   "id": "50c326cd-847d-44c3-baa2-0b639a947ce0",
   "metadata": {},
   "outputs": [
    {
     "name": "stdout",
     "output_type": "stream",
     "text": [
      "[1, 128, 1, 10, 1, 5, 121, 3, 1, 1, 1, 247, 808, 6, 1, 1533, 1, 3, 50, 1, 1, 8, 15, 10, 1147, 4, 1, 2, 1020, 40, 426, 3, 8, 809, 39, 2, 11, 14, 5, 1, 35, 119, 3806, 1, 1, 286, 5, 61, 19, 17, 4534, 52, 2, 331, 6643, 1, 2, 7312, 7, 2, 4, 8, 90, 4, 1, 2, 60, 122, 6, 98, 2144, 48, 14, 53, 426, 1668, 4, 15, 132, 11, 2, 1, 1, 62, 5, 2, 17, 8, 1, 1, 7, 51, 124, 31, 1, 124, 2, 1, 2, 60, 8, 1, 8, 1, 3, 45, 1, 4, 2, 19, 1, 1, 6, 1429, 357, 1, 53, 11, 4, 8, 17, 14, 1, 537, 9, 16685, 2, 1, 3, 259, 303, 2, 15, 1, 3, 19, 1, 1, 1, 90, 1, 4, 31, 37, 661, 1, 2, 1, 39, 1, 1, 17, 121, 32, 2, 2, 43, 16, 1225, 1, 11, 3, 34, 1, 1]\n"
     ]
    }
   ],
   "source": []
  },
  {
   "cell_type": "code",
   "execution_count": 20,
   "id": "5fdbbe6d",
   "metadata": {},
   "outputs": [],
   "source": [
    "# Your code here (b)"
   ]
  },
  {
   "cell_type": "code",
   "execution_count": 20,
   "id": "708ab314",
   "metadata": {},
   "outputs": [],
   "source": [
    "# Your code here (c)"
   ]
  },
  {
   "cell_type": "markdown",
   "id": "bc43caa5",
   "metadata": {},
   "source": [
    "## Part B - Pre-processing\n",
    "\n",
    "For this part, **you are required to document the reasoning behind all the data transformations you devise and the insights you gain from each question.** Create **markdown cells** to add your answers. \n",
    "\n",
    "### Task Description\n",
    "\n",
    "The task is to classify whether a booking will be cancelled or not. \n"
   ]
  },
  {
   "cell_type": "markdown",
   "id": "1e0dab07",
   "metadata": {},
   "source": [
    "### Question 1\n",
    "**Feature Selection**\n",
    "\n",
    "#### (a)\n",
    "List the features which seem to contribute to data leakage. These will be the features which are related to the predicitve target, but would not be available at prediction time in a real-world setting. \n",
    "\n",
    "#### (b)\n",
    "Find out the percent of missing values of each column and visualize using [missingno](https://github.com/ResidentMario/missingno) . Which features have too many missing values? And which features have sufficiently low number of missing values, such that they can be safely imputed without significantly affecting the overall data distribution.\n",
    "\n",
    "#### (c)\n",
    "Visualize the correlations among the different input features.\n",
    "\n",
    "#### (d)\n",
    "Find out the correlation of each of the input features with the target attribute.\n",
    "\n",
    "#### (e)\n",
    "Using your answers to the previous parts, filter out the irrelevant features from the dataset.\n",
    "\n",
    "Remember to document your findings for each part."
   ]
  },
  {
   "cell_type": "code",
   "execution_count": 21,
   "id": "d40963cc",
   "metadata": {},
   "outputs": [],
   "source": [
    "# Your code here (a)"
   ]
  },
  {
   "cell_type": "code",
   "execution_count": 22,
   "id": "aa389b47",
   "metadata": {},
   "outputs": [],
   "source": [
    "# Your code here (b)"
   ]
  },
  {
   "cell_type": "code",
   "execution_count": 23,
   "id": "f30fd629",
   "metadata": {},
   "outputs": [],
   "source": [
    "# Your code here (c)"
   ]
  },
  {
   "cell_type": "code",
   "execution_count": 24,
   "id": "ebac44f5",
   "metadata": {},
   "outputs": [],
   "source": [
    "# Your code here (d)"
   ]
  },
  {
   "cell_type": "code",
   "execution_count": 25,
   "id": "91a0eb13",
   "metadata": {},
   "outputs": [],
   "source": [
    "# Your code here (e)"
   ]
  },
  {
   "cell_type": "markdown",
   "id": "494a1213",
   "metadata": {},
   "source": [
    "### Question 2\n",
    "\n",
    "For this question, use sklearn transformations. \n",
    "\n",
    "Develop appropriate encoding and scaling steps for the categorical and numerical columns in your dataset respectively. \n",
    "\n",
    "For this question, a single sklearn `Transformer` should be developed which can be applied for the entire dataset.\n",
    "If separate transformations need to be applied for different columns, then compose them into a single transformation using sklearn's `ColumnTransformer`.  "
   ]
  },
  {
   "cell_type": "code",
   "execution_count": 32,
   "id": "d8c5c8ce",
   "metadata": {},
   "outputs": [],
   "source": [
    "# Your code here"
   ]
  },
  {
   "cell_type": "markdown",
   "id": "27ebfea5",
   "metadata": {},
   "source": [
    "## Part C - Modeling\n",
    "\n",
    "Now, you will be training different ML models to perform the required predictive task. Specifically, the following classification models will be trained:\n",
    "* kNN\n",
    "* Naive Bayes\n",
    "* Decision tree\n",
    "* [xgboost](https://xgboost.readthedocs.io/en/latest/python/python_api.html) "
   ]
  },
  {
   "cell_type": "markdown",
   "id": "fc18d2c9",
   "metadata": {},
   "source": [
    "### Question 1\n",
    "\n",
    "Split your data into training and testing data, with 85% of the dataset going to testing data. Set a suitable seed value so that the splits are reproducible"
   ]
  },
  {
   "cell_type": "code",
   "execution_count": 34,
   "id": "4c2e9951",
   "metadata": {},
   "outputs": [],
   "source": [
    "### Your code here"
   ]
  },
  {
   "cell_type": "markdown",
   "id": "bf7e75ac",
   "metadata": {},
   "source": [
    "### Question 2\n",
    "\n",
    "For each of the required models perform the following tasks:\n",
    "* Compose an sklearn pipeline with the developed pre-processing (developed in the previous part) and the model.\n",
    "* Train the model with default hyper-parameters and report its evlauation score on the test set.\n",
    "* Tune the hyper-parameters of the model with `GridSearchCV`.\n",
    "* Report the accuracy, balanced accuracy, F1, ROC AUC and average predicion scores of the best model on the test set."
   ]
  },
  {
   "cell_type": "markdown",
   "id": "13805f62",
   "metadata": {},
   "source": [
    "#### kNN"
   ]
  },
  {
   "cell_type": "code",
   "execution_count": 35,
   "id": "2f64d57e",
   "metadata": {},
   "outputs": [],
   "source": [
    "### Your code here"
   ]
  },
  {
   "cell_type": "code",
   "execution_count": 36,
   "id": "c15b008b",
   "metadata": {},
   "outputs": [],
   "source": [
    "### Your code here"
   ]
  },
  {
   "cell_type": "code",
   "execution_count": null,
   "id": "c8931b48",
   "metadata": {},
   "outputs": [],
   "source": [
    "### Your code here"
   ]
  },
  {
   "cell_type": "markdown",
   "id": "963e4851",
   "metadata": {},
   "source": [
    "#### Naive Bayes"
   ]
  },
  {
   "cell_type": "code",
   "execution_count": 35,
   "id": "af6f981f",
   "metadata": {},
   "outputs": [],
   "source": [
    "### Your code here"
   ]
  },
  {
   "cell_type": "code",
   "execution_count": 36,
   "id": "f66837d3",
   "metadata": {},
   "outputs": [],
   "source": [
    "### Your code here"
   ]
  },
  {
   "cell_type": "code",
   "execution_count": null,
   "id": "53d119fc",
   "metadata": {},
   "outputs": [],
   "source": [
    "### Your code here"
   ]
  },
  {
   "cell_type": "markdown",
   "id": "0646b861",
   "metadata": {},
   "source": [
    "#### Decision Tree"
   ]
  },
  {
   "cell_type": "code",
   "execution_count": 35,
   "id": "c6244105",
   "metadata": {},
   "outputs": [],
   "source": [
    "### Your code here"
   ]
  },
  {
   "cell_type": "code",
   "execution_count": 36,
   "id": "760ffa0a",
   "metadata": {},
   "outputs": [],
   "source": [
    "### Your code here"
   ]
  },
  {
   "cell_type": "code",
   "execution_count": null,
   "id": "09affb3f",
   "metadata": {},
   "outputs": [],
   "source": [
    "### Your code here"
   ]
  },
  {
   "cell_type": "markdown",
   "id": "fb2bf3a0",
   "metadata": {},
   "source": [
    "#### xgboost"
   ]
  },
  {
   "cell_type": "code",
   "execution_count": 35,
   "id": "c096fc9c",
   "metadata": {},
   "outputs": [],
   "source": [
    "### Your code here"
   ]
  },
  {
   "cell_type": "code",
   "execution_count": 36,
   "id": "edf2b031",
   "metadata": {},
   "outputs": [],
   "source": [
    "### Your code here"
   ]
  },
  {
   "cell_type": "code",
   "execution_count": 37,
   "id": "4f746ce4",
   "metadata": {},
   "outputs": [],
   "source": [
    "### Your code here"
   ]
  },
  {
   "cell_type": "markdown",
   "id": "05f870d0",
   "metadata": {},
   "source": [
    "### Question 3\n",
    "\n",
    "#### (a)\n",
    "Plot a bar chart showing the results of the different models (the tuned ones). Show the following metrics:\n",
    "* Accuracy\n",
    "* Balanced accuracy\n",
    "* F1 score\n",
    "* ROC AUC \n",
    "* Average precision\n",
    "\n",
    "#### (b)\n",
    "Describe your results for different models and your performance in comparison to the random selection baseline.\n",
    "\n",
    "#### (c)\n",
    "Which of the above is the most suitable metric for evaluation in this case? Justify your answer. Now with that metric, select which model performed the best? This model is now your best overall model."
   ]
  },
  {
   "cell_type": "code",
   "execution_count": null,
   "id": "62b6d773",
   "metadata": {},
   "outputs": [],
   "source": [
    "### Your code here (a)"
   ]
  },
  {
   "cell_type": "markdown",
   "id": "49493049",
   "metadata": {},
   "source": [
    "Your answer to (b) here"
   ]
  },
  {
   "cell_type": "markdown",
   "id": "bbf7b75f",
   "metadata": {},
   "source": [
    "Your answer to (c) here"
   ]
  },
  {
   "cell_type": "markdown",
   "id": "a61eac6c",
   "metadata": {},
   "source": [
    "### Question 4\n",
    "Using your best overall model, plot the following:\n",
    "\n",
    "#### (a)\n",
    "Confusion Matrix (appropriate labels should be shown)\n",
    "\n",
    "#### (b)\n",
    "Precision Recall curve\n",
    "\n",
    "#### (c)\n",
    "ROC curve (Also show ROC for random classifier on the same plot)"
   ]
  },
  {
   "cell_type": "code",
   "execution_count": 172,
   "id": "a55c78b1",
   "metadata": {},
   "outputs": [],
   "source": [
    "import os"
   ]
  },
  {
   "cell_type": "code",
   "execution_count": null,
   "id": "5816b495-0637-4b00-b8fc-0b8ebf75682a",
   "metadata": {},
   "outputs": [],
   "source": [
    "os.listdir()"
   ]
  }
 ],
 "metadata": {
  "kernelspec": {
   "display_name": "Python 3",
   "language": "python",
   "name": "python3"
  },
  "language_info": {
   "codemirror_mode": {
    "name": "ipython",
    "version": 3
   },
   "file_extension": ".py",
   "mimetype": "text/x-python",
   "name": "python",
   "nbconvert_exporter": "python",
   "pygments_lexer": "ipython3",
   "version": "3.6.13"
  }
 },
 "nbformat": 4,
 "nbformat_minor": 5
}
